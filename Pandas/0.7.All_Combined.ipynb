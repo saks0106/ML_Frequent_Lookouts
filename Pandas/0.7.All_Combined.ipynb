{
  "cells": [
    {
      "cell_type": "markdown",
      "metadata": {
        "id": "view-in-github",
        "colab_type": "text"
      },
      "source": [
        "<a href=\"https://colab.research.google.com/github/saks0106/ML_Frequent-Lookouts/blob/main/Quick_Reference.ipynb\" target=\"_parent\"><img src=\"https://colab.research.google.com/assets/colab-badge.svg\" alt=\"Open In Colab\"/></a>"
      ]
    },
    {
      "cell_type": "markdown",
      "id": "56fad617",
      "metadata": {
        "id": "56fad617"
      },
      "source": [
        "# Pandas Examples"
      ]
    },
    {
      "cell_type": "code",
      "execution_count": null,
      "id": "2d9207b1",
      "metadata": {
        "scrolled": false,
        "id": "2d9207b1"
      },
      "outputs": [],
      "source": [
        "pd.Series([1,2,3],index=['a','b','c'])"
      ]
    },
    {
      "cell_type": "code",
      "execution_count": null,
      "id": "3d7ee4bd",
      "metadata": {
        "id": "3d7ee4bd"
      },
      "outputs": [],
      "source": [
        "pd.Series(range(1,10),index=[i for i in range (1,10)])"
      ]
    },
    {
      "cell_type": "code",
      "execution_count": null,
      "id": "ea798928",
      "metadata": {
        "id": "ea798928",
        "outputId": "c2a0f082-0751-4b21-9937-aafc0ea84b26"
      },
      "outputs": [
        {
          "data": {
            "text/plain": [
              "0.35642857142857176"
            ]
          },
          "execution_count": 5,
          "metadata": {},
          "output_type": "execute_result"
        }
      ],
      "source": [
        "#wherever cyl is 6, give drat mean\n",
        "cars.loc[(cars['cyl']==6),'drat'].mean() - cars.loc[(cars['cyl']==8),'drat'].mean()\n",
        "\n",
        "\n",
        "#df[(df['Doors'] >= 4)]['Doors'].count()\n",
        "#df[(df['Doors']>=4)]['Colour'].unique().tolist()"
      ]
    },
    {
      "cell_type": "code",
      "execution_count": null,
      "id": "e9edcf9c",
      "metadata": {
        "id": "e9edcf9c",
        "outputId": "00228326-9a00-4ce1-a4c0-b2fc055b550a"
      },
      "outputs": [
        {
          "data": {
            "text/plain": [
              "Int64Index([8, 4, 6], dtype='int64')"
            ]
          },
          "execution_count": 8,
          "metadata": {},
          "output_type": "execute_result"
        }
      ],
      "source": [
        "cars['cyl'].value_counts().keys().unique()\n",
        "#cars['model'].value_counts().sort_values(ascending=False)\n",
        "#cars.model.value_counts().reset_index().sort_values('model', ascending=False)\n"
      ]
    },
    {
      "cell_type": "code",
      "source": [
        "pd.DataFrame({'Skewness':[stats.skew(df.bmi), stats.skew(df.age),stats.skew(df.expenses)]},index=['Bmi','Age','Expenses'])"
      ],
      "metadata": {
        "id": "1gpJH2aW-YvD"
      },
      "id": "1gpJH2aW-YvD",
      "execution_count": null,
      "outputs": []
    },
    {
      "cell_type": "code",
      "source": [
        "# Dataframe of number of sales made by an employees\n",
        "sales = {'Jones': 10000,\n",
        "         'Chris': 5000,\n",
        "         'Piyush': 440,\n",
        "         'Meera': 6700,\n",
        "         'Rahul': 300\n",
        "        }\n",
        "# Dataframe of all employees and the region they work in\n",
        "region = {'Jones': 'West',\n",
        "          'Chris': np.nan,\n",
        "          'Piyush': 'West',\n",
        "          'Meera': np.nan,\n",
        "          'Anthony': 'East',\n",
        "          'Ellen': 'South',\n",
        "          'Josh': 'West',\n",
        "          'Simran': 'East',\n",
        "          'Oscar': 'North',\n",
        "         }\n",
        "\n",
        "sales = pd.DataFrame.from_dict(sales,orient='index',columns=['sales'])\n",
        "region = pd.DataFrame.from_dict(region,orient='index',columns=['region'])\n",
        "joined = sales.join(region,how='outer')\n",
        "\n",
        "#for merging\n",
        "region.index.name = 'names'\n",
        "sales.index.name = 'names'\n",
        "\n",
        "merged = pd.merge(region,sales,how='outer',on='names')"
      ],
      "metadata": {
        "id": "osyntZl4-v-_"
      },
      "id": "osyntZl4-v-_",
      "execution_count": null,
      "outputs": []
    },
    {
      "cell_type": "code",
      "source": [
        "age_map = {'18+':18,'7+':7,'13+':13,'all':0,'16+':16}\n",
        "df['Age_Copy'] = df['Age'].map(age_map)"
      ],
      "metadata": {
        "id": "y2qLej6u-p6q"
      },
      "id": "y2qLej6u-p6q",
      "execution_count": null,
      "outputs": []
    },
    {
      "cell_type": "code",
      "source": [
        "churn_data['TotalCharges']=pd.to_numeric(churn_data['TotalCharges'], errors='coerce')# error =corece to handle the error\n",
        "churn_data['gender'] = churn_data['gender'].map({'Male': 1, 'Female': 0})"
      ],
      "metadata": {
        "id": "A3IHfeQgBLZe"
      },
      "id": "A3IHfeQgBLZe",
      "execution_count": null,
      "outputs": []
    },
    {
      "cell_type": "code",
      "source": [
        "\n",
        "my_dict = {1: 'A',\n",
        "           2: 'B',\n",
        "           3: 'C'\n",
        "        }\n",
        " \n",
        "\n",
        "result = my_dict.items()\n",
        " \n",
        "\n",
        "data = list(result)\n",
        " \n",
        "numpyArray = np.array(data)\n",
        " \n",
        "print(numpyArray)"
      ],
      "metadata": {
        "id": "R23Lho7c-Fvx"
      },
      "id": "R23Lho7c-Fvx",
      "execution_count": null,
      "outputs": []
    },
    {
      "cell_type": "code",
      "source": [
        "df['cyl'].between(20,26).sum()\n",
        "\n"
      ],
      "metadata": {
        "id": "5Er9QNN_EIbK"
      },
      "id": "5Er9QNN_EIbK",
      "execution_count": null,
      "outputs": []
    },
    {
      "cell_type": "code",
      "execution_count": null,
      "id": "92b970e3",
      "metadata": {
        "scrolled": false,
        "id": "92b970e3",
        "outputId": "96071d27-1011-4567-f515-1f8efa4520e7"
      },
      "outputs": [
        {
          "data": {
            "text/html": [
              "<div>\n",
              "<style scoped>\n",
              "    .dataframe tbody tr th:only-of-type {\n",
              "        vertical-align: middle;\n",
              "    }\n",
              "\n",
              "    .dataframe tbody tr th {\n",
              "        vertical-align: top;\n",
              "    }\n",
              "\n",
              "    .dataframe thead th {\n",
              "        text-align: right;\n",
              "    }\n",
              "</style>\n",
              "<table border=\"1\" class=\"dataframe\">\n",
              "  <thead>\n",
              "    <tr style=\"text-align: right;\">\n",
              "      <th></th>\n",
              "      <th>S.No</th>\n",
              "      <th>model</th>\n",
              "      <th>mpg</th>\n",
              "      <th>cyl</th>\n",
              "      <th>disp</th>\n",
              "      <th>hp</th>\n",
              "      <th>drat</th>\n",
              "      <th>wt</th>\n",
              "      <th>qsec</th>\n",
              "      <th>vs</th>\n",
              "      <th>am</th>\n",
              "      <th>gear</th>\n",
              "      <th>carb</th>\n",
              "    </tr>\n",
              "  </thead>\n",
              "  <tbody>\n",
              "    <tr>\n",
              "      <th>6</th>\n",
              "      <td>7</td>\n",
              "      <td>Duster 360</td>\n",
              "      <td>14.3</td>\n",
              "      <td>8</td>\n",
              "      <td>360.0</td>\n",
              "      <td>245</td>\n",
              "      <td>3.21</td>\n",
              "      <td>3.570</td>\n",
              "      <td>15.84</td>\n",
              "      <td>0</td>\n",
              "      <td>0</td>\n",
              "      <td>3</td>\n",
              "      <td>4</td>\n",
              "    </tr>\n",
              "    <tr>\n",
              "      <th>14</th>\n",
              "      <td>15</td>\n",
              "      <td>Cadillac Fleetwood</td>\n",
              "      <td>10.4</td>\n",
              "      <td>8</td>\n",
              "      <td>472.0</td>\n",
              "      <td>205</td>\n",
              "      <td>2.93</td>\n",
              "      <td>5.250</td>\n",
              "      <td>17.98</td>\n",
              "      <td>0</td>\n",
              "      <td>0</td>\n",
              "      <td>3</td>\n",
              "      <td>4</td>\n",
              "    </tr>\n",
              "    <tr>\n",
              "      <th>15</th>\n",
              "      <td>16</td>\n",
              "      <td>Lincoln Continental</td>\n",
              "      <td>10.4</td>\n",
              "      <td>8</td>\n",
              "      <td>460.0</td>\n",
              "      <td>215</td>\n",
              "      <td>3.00</td>\n",
              "      <td>5.424</td>\n",
              "      <td>17.82</td>\n",
              "      <td>0</td>\n",
              "      <td>0</td>\n",
              "      <td>3</td>\n",
              "      <td>4</td>\n",
              "    </tr>\n",
              "    <tr>\n",
              "      <th>16</th>\n",
              "      <td>17</td>\n",
              "      <td>Chrysler Imperial</td>\n",
              "      <td>14.7</td>\n",
              "      <td>8</td>\n",
              "      <td>440.0</td>\n",
              "      <td>230</td>\n",
              "      <td>3.23</td>\n",
              "      <td>5.345</td>\n",
              "      <td>17.42</td>\n",
              "      <td>0</td>\n",
              "      <td>0</td>\n",
              "      <td>3</td>\n",
              "      <td>4</td>\n",
              "    </tr>\n",
              "    <tr>\n",
              "      <th>23</th>\n",
              "      <td>24</td>\n",
              "      <td>Camaro Z28</td>\n",
              "      <td>13.3</td>\n",
              "      <td>8</td>\n",
              "      <td>350.0</td>\n",
              "      <td>245</td>\n",
              "      <td>3.73</td>\n",
              "      <td>3.840</td>\n",
              "      <td>15.41</td>\n",
              "      <td>0</td>\n",
              "      <td>0</td>\n",
              "      <td>3</td>\n",
              "      <td>4</td>\n",
              "    </tr>\n",
              "    <tr>\n",
              "      <th>28</th>\n",
              "      <td>29</td>\n",
              "      <td>Ford Pantera L</td>\n",
              "      <td>15.8</td>\n",
              "      <td>8</td>\n",
              "      <td>351.0</td>\n",
              "      <td>264</td>\n",
              "      <td>4.22</td>\n",
              "      <td>3.170</td>\n",
              "      <td>14.50</td>\n",
              "      <td>0</td>\n",
              "      <td>1</td>\n",
              "      <td>5</td>\n",
              "      <td>4</td>\n",
              "    </tr>\n",
              "  </tbody>\n",
              "</table>\n",
              "</div>"
            ],
            "text/plain": [
              "    S.No                model   mpg  cyl   disp   hp  drat     wt   qsec  vs  \\\n",
              "6      7           Duster 360  14.3    8  360.0  245  3.21  3.570  15.84   0   \n",
              "14    15   Cadillac Fleetwood  10.4    8  472.0  205  2.93  5.250  17.98   0   \n",
              "15    16  Lincoln Continental  10.4    8  460.0  215  3.00  5.424  17.82   0   \n",
              "16    17    Chrysler Imperial  14.7    8  440.0  230  3.23  5.345  17.42   0   \n",
              "23    24           Camaro Z28  13.3    8  350.0  245  3.73  3.840  15.41   0   \n",
              "28    29       Ford Pantera L  15.8    8  351.0  264  4.22  3.170  14.50   0   \n",
              "\n",
              "    am  gear  carb  \n",
              "6    0     3     4  \n",
              "14   0     3     4  \n",
              "15   0     3     4  \n",
              "16   0     3     4  \n",
              "23   0     3     4  \n",
              "28   1     5     4  "
            ]
          },
          "execution_count": 10,
          "metadata": {},
          "output_type": "execute_result"
        }
      ],
      "source": [
        "cars.loc[(cars['cyl']==8) & (cars['carb']==4)]#.value_counts() #| for or"
      ]
    },
    {
      "cell_type": "code",
      "execution_count": null,
      "id": "96043c76",
      "metadata": {
        "id": "96043c76"
      },
      "outputs": [],
      "source": [
        "cars.cyl.replace((8, 4), (8.1, 4.2), inplace=True)"
      ]
    },
    {
      "cell_type": "code",
      "execution_count": null,
      "id": "7424b514",
      "metadata": {
        "id": "7424b514",
        "outputId": "88128ba0-95ab-43d5-8f82-269f727ce552"
      },
      "outputs": [
        {
          "data": {
            "text/plain": [
              "(array([6. , 4.2, 8.1]), 3)"
            ]
          },
          "execution_count": 13,
          "metadata": {},
          "output_type": "execute_result"
        }
      ],
      "source": [
        "cars['cyl'].unique(), len(cars['cyl'].unique().tolist())"
      ]
    },
    {
      "cell_type": "code",
      "source": [
        "np.where(titanic.age<=1, \"NewBorn\", \"Not NewBorns\")"
      ],
      "metadata": {
        "id": "3RDUtcZpRHAl"
      },
      "id": "3RDUtcZpRHAl",
      "execution_count": null,
      "outputs": []
    },
    {
      "cell_type": "code",
      "source": [
        "s = pd.Series(['a','b','c',12,13,13,'d','e'])\n",
        "s.index, s.dtype, s.ndim, s.values,s.mean,s"
      ],
      "metadata": {
        "id": "37mJ36WRIojP"
      },
      "id": "37mJ36WRIojP",
      "execution_count": null,
      "outputs": []
    },
    {
      "cell_type": "code",
      "source": [
        "# Using Heatmap to check null values\n",
        "sns.set_style('whitegrid') # use it for countplot\n",
        "sns.heatmap(cars.isna(),yticklabels=False)\n",
        "#Because we have no nulls, it shows nothing"
      ],
      "metadata": {
        "id": "VDhWeGasFr65"
      },
      "id": "VDhWeGasFr65",
      "execution_count": null,
      "outputs": []
    },
    {
      "cell_type": "code",
      "source": [
        "#Handling Missing Values\n",
        "mf = lambda x: x.fillna(x.median())\n",
        "df3 = df2.apply(mf,axis=0)\n",
        "\n",
        "\n",
        "#df3['horsepower'] = df3['horsepower'].fillna(df3['horsepower'].median())\n",
        "\n",
        "#df['Odometer'].fillna(df['Odometer'].mean(),inplace=True) # \n",
        "#df['Odometer'].fillna(method='ffill')"
      ],
      "metadata": {
        "id": "nCHJmb-EGKSm"
      },
      "id": "nCHJmb-EGKSm",
      "execution_count": null,
      "outputs": []
    },
    {
      "cell_type": "code",
      "execution_count": null,
      "id": "1426373d",
      "metadata": {
        "id": "1426373d",
        "outputId": "15890152-6cb0-4eaf-d303-81044b2d50f3"
      },
      "outputs": [
        {
          "data": {
            "text/plain": [
              "<pandas.core.groupby.generic.SeriesGroupBy object at 0x0000021A696CC940>"
            ]
          },
          "execution_count": 11,
          "metadata": {},
          "output_type": "execute_result"
        }
      ],
      "source": [
        "cars.groupby(['model'])['wt']"
      ]
    },
    {
      "cell_type": "code",
      "execution_count": null,
      "id": "c4de4fa8",
      "metadata": {
        "scrolled": true,
        "id": "c4de4fa8"
      },
      "outputs": [],
      "source": [
        "cars.groupby(['model'])['wt'].aggregate('sum').reset_index().sort_values('model', ascending=False)\n",
        "#aggregate can be changed to max, min, sum\n",
        "\n",
        "#df.groupby(['SeniorCitizen'])['tenure'].aggregate('count')\n",
        "#df.groupby(['SeniorCitizen'])['tenure'].mean()\n",
        "\n",
        "#df.groupby(['Odometer'])['Odometer'].aggregate(['mean','median'])\n",
        "\n",
        "#df['Odometer'].aggregate(['mean','median'])\n",
        "\n",
        "\n",
        "# t.groupby(['pclass','sex'])['fare'].agg('count')#aggregate('count')\n",
        "# t.groupby(['pclass','sex'])['fare'].agg(['mean','median'])#aggregate('count')\n",
        "# t.groupby(['pclass','sex'])['fare'].mean()"
      ]
    },
    {
      "cell_type": "code",
      "source": [
        "#visualize using crosstab\n",
        "pd.crosstab(y_test,y_preds,rownames=['Actual'],colnames=['Predicted'])"
      ],
      "metadata": {
        "id": "INi3vXQXPoYT"
      },
      "id": "INi3vXQXPoYT",
      "execution_count": null,
      "outputs": []
    },
    {
      "cell_type": "code",
      "source": [
        "pd.get_dummies(cars,columns=['model'],drop_first=True) # will drop the very first dummies column to avoid dummy varaible trap"
      ],
      "metadata": {
        "id": "cQVJZhSoE4ut"
      },
      "id": "cQVJZhSoE4ut",
      "execution_count": null,
      "outputs": []
    },
    {
      "cell_type": "code",
      "execution_count": null,
      "id": "aa35bf20",
      "metadata": {
        "id": "aa35bf20"
      },
      "outputs": [],
      "source": [
        "cars['model'].value_counts().keys().to_list()"
      ]
    },
    {
      "cell_type": "code",
      "source": [
        "df['Company']= df['Company'].str.lower()"
      ],
      "metadata": {
        "id": "mwbUVI8XMKAf"
      },
      "id": "mwbUVI8XMKAf",
      "execution_count": null,
      "outputs": []
    },
    {
      "cell_type": "code",
      "source": [
        "hd.sort_values(by='cp',ascending=False)\n",
        "\n",
        "\n",
        "result_data = df[(df['age'] >60) & (df['target'] ==1)]\n",
        "\n",
        "df = pd.DataFrame(result_data, index = None)\n",
        "  \n",
        "# computing number of rows\n",
        "rows = len(df.axes[0])\n",
        "  \n",
        "# computing number of columns\n",
        "cols = len(df.axes[1])"
      ],
      "metadata": {
        "id": "hx_gUNSwXWba"
      },
      "id": "hx_gUNSwXWba",
      "execution_count": null,
      "outputs": []
    },
    {
      "cell_type": "code",
      "execution_count": null,
      "id": "1eabd03f",
      "metadata": {
        "id": "1eabd03f"
      },
      "outputs": [],
      "source": [
        "#Let's check for multicollinearity - OLS ie Ordinary Least Square method, intercept ie C is initally multiplied by 1\n",
        "import statsmodels.api as sm\n",
        "\n",
        "X = sm.add_constant(X)\n",
        "model = sm.OLS(y,X).fit() #output feature, input features\n",
        "\n",
        "model.summary()\n",
        "#R-squared is 0.825 which is good, coef is something that should be adjusted to get best reults\n",
        "#std err is also very less indicating none of the feaure have multicollinearity, if high multicollinearity can exist\n",
        "      #if std err is huge, remove that feature that has high pvalue\n",
        "# p value should be less than 5% and except for horsepower and accleration, all are below 5%"
      ]
    },
    {
      "cell_type": "code",
      "execution_count": null,
      "id": "21b5d905",
      "metadata": {
        "id": "21b5d905",
        "outputId": "6e0bb1dc-c06c-4fab-d4c7-309d97f1cf36"
      },
      "outputs": [
        {
          "data": {
            "text/html": [
              "<div>\n",
              "<style scoped>\n",
              "    .dataframe tbody tr th:only-of-type {\n",
              "        vertical-align: middle;\n",
              "    }\n",
              "\n",
              "    .dataframe tbody tr th {\n",
              "        vertical-align: top;\n",
              "    }\n",
              "\n",
              "    .dataframe thead th {\n",
              "        text-align: right;\n",
              "    }\n",
              "</style>\n",
              "<table border=\"1\" class=\"dataframe\">\n",
              "  <thead>\n",
              "    <tr style=\"text-align: right;\">\n",
              "      <th></th>\n",
              "      <th>Employee</th>\n",
              "      <th>Salary</th>\n",
              "      <th>Designation</th>\n",
              "    </tr>\n",
              "  </thead>\n",
              "  <tbody>\n",
              "    <tr>\n",
              "      <th>0</th>\n",
              "      <td>Sak</td>\n",
              "      <td>60000</td>\n",
              "      <td>Data Scientist</td>\n",
              "    </tr>\n",
              "    <tr>\n",
              "      <th>1</th>\n",
              "      <td>Pra</td>\n",
              "      <td>70000</td>\n",
              "      <td>Developer</td>\n",
              "    </tr>\n",
              "  </tbody>\n",
              "</table>\n",
              "</div>"
            ],
            "text/plain": [
              "  Employee Salary     Designation\n",
              "0      Sak  60000  Data Scientist\n",
              "1      Pra  70000       Developer"
            ]
          },
          "execution_count": 29,
          "metadata": {},
          "output_type": "execute_result"
        }
      ],
      "source": [
        "a = np.array([['Sak',\"Pra\"],\n",
        "              [\"60000\",\"70000\"],\n",
        "              ['Data Scientist','Developer']])\n",
        "pd.DataFrame({\"Employee\":a[0],\"Salary\":a[1],'Designation':a[2]})"
      ]
    },
    {
      "cell_type": "code",
      "execution_count": null,
      "id": "4cf3e745",
      "metadata": {
        "scrolled": true,
        "id": "4cf3e745"
      },
      "outputs": [],
      "source": [
        "df = pd.DataFrame({'Animal':['Tiger','Lion','Dog'],\n",
        "                 'Color':['Golden','Yellow','Blue'],\n",
        "                 'Price':[12,34,3]},\n",
        "                  index=['A','B','C'])\n",
        "df.columns,df.index,df.values,df.dtypes,len(df),type(df)"
      ]
    },
    {
      "cell_type": "code",
      "execution_count": null,
      "id": "0771c11f",
      "metadata": {
        "id": "0771c11f"
      },
      "outputs": [],
      "source": [
        "df.reset_index()\n",
        "df.set_index('Title') # key='Title'\n",
        "#df.set_index(keys='Company')"
      ]
    },
    {
      "cell_type": "code",
      "execution_count": null,
      "id": "f74643da",
      "metadata": {
        "scrolled": false,
        "id": "f74643da"
      },
      "outputs": [],
      "source": [
        "# to rename the column\n",
        "df.rename(columns={\"Make\":\"Company\"},inplace=True)"
      ]
    },
    {
      "cell_type": "code",
      "execution_count": null,
      "id": "edb242f6",
      "metadata": {
        "scrolled": true,
        "id": "edb242f6"
      },
      "outputs": [],
      "source": [
        "#to change a particular value \n",
        "df.at[9,'Company']='Lamborghini'\n",
        "#df.iloc[8,1] = 'Violet'"
      ]
    },
    {
      "cell_type": "code",
      "execution_count": null,
      "id": "263b388d",
      "metadata": {
        "scrolled": true,
        "id": "263b388d",
        "outputId": "aca19474-a66a-42f3-8ab4-19ad6522de0b"
      },
      "outputs": [
        {
          "data": {
            "text/html": [
              "<div>\n",
              "<style scoped>\n",
              "    .dataframe tbody tr th:only-of-type {\n",
              "        vertical-align: middle;\n",
              "    }\n",
              "\n",
              "    .dataframe tbody tr th {\n",
              "        vertical-align: top;\n",
              "    }\n",
              "\n",
              "    .dataframe thead th {\n",
              "        text-align: right;\n",
              "    }\n",
              "</style>\n",
              "<table border=\"1\" class=\"dataframe\">\n",
              "  <thead>\n",
              "    <tr style=\"text-align: right;\">\n",
              "      <th>Company</th>\n",
              "      <th>BMW</th>\n",
              "      <th>Honda</th>\n",
              "      <th>Nissan</th>\n",
              "      <th>Toyota</th>\n",
              "    </tr>\n",
              "    <tr>\n",
              "      <th>Price</th>\n",
              "      <th></th>\n",
              "      <th></th>\n",
              "      <th></th>\n",
              "      <th></th>\n",
              "    </tr>\n",
              "  </thead>\n",
              "  <tbody>\n",
              "    <tr>\n",
              "      <th>$22,000.00</th>\n",
              "      <td>1</td>\n",
              "      <td>0</td>\n",
              "      <td>0</td>\n",
              "      <td>0</td>\n",
              "    </tr>\n",
              "    <tr>\n",
              "      <th>$3,500.00</th>\n",
              "      <td>0</td>\n",
              "      <td>0</td>\n",
              "      <td>1</td>\n",
              "      <td>0</td>\n",
              "    </tr>\n",
              "    <tr>\n",
              "      <th>$4,000.00</th>\n",
              "      <td>0</td>\n",
              "      <td>0</td>\n",
              "      <td>0</td>\n",
              "      <td>1</td>\n",
              "    </tr>\n",
              "    <tr>\n",
              "      <th>$4,500.00</th>\n",
              "      <td>0</td>\n",
              "      <td>0</td>\n",
              "      <td>0</td>\n",
              "      <td>1</td>\n",
              "    </tr>\n",
              "    <tr>\n",
              "      <th>$5,000.00</th>\n",
              "      <td>0</td>\n",
              "      <td>1</td>\n",
              "      <td>0</td>\n",
              "      <td>0</td>\n",
              "    </tr>\n",
              "    <tr>\n",
              "      <th>$6,250.00</th>\n",
              "      <td>0</td>\n",
              "      <td>0</td>\n",
              "      <td>0</td>\n",
              "      <td>1</td>\n",
              "    </tr>\n",
              "    <tr>\n",
              "      <th>$7,000.00</th>\n",
              "      <td>0</td>\n",
              "      <td>1</td>\n",
              "      <td>0</td>\n",
              "      <td>1</td>\n",
              "    </tr>\n",
              "    <tr>\n",
              "      <th>$7,500.00</th>\n",
              "      <td>0</td>\n",
              "      <td>1</td>\n",
              "      <td>0</td>\n",
              "      <td>0</td>\n",
              "    </tr>\n",
              "    <tr>\n",
              "      <th>$9,700.00</th>\n",
              "      <td>0</td>\n",
              "      <td>0</td>\n",
              "      <td>1</td>\n",
              "      <td>0</td>\n",
              "    </tr>\n",
              "  </tbody>\n",
              "</table>\n",
              "</div>"
            ],
            "text/plain": [
              "Company      BMW  Honda  Nissan  Toyota\n",
              "Price                                  \n",
              "$22,000.00     1      0       0       0\n",
              "$3,500.00      0      0       1       0\n",
              "$4,000.00      0      0       0       1\n",
              "$4,500.00      0      0       0       1\n",
              "$5,000.00      0      1       0       0\n",
              "$6,250.00      0      0       0       1\n",
              "$7,000.00      0      1       0       1\n",
              "$7,500.00      0      1       0       0\n",
              "$9,700.00      0      0       1       0"
            ]
          },
          "execution_count": 48,
          "metadata": {},
          "output_type": "execute_result"
        }
      ],
      "source": [
        "pd.crosstab(df['Price'],df['Company'])"
      ]
    },
    {
      "cell_type": "code",
      "execution_count": null,
      "id": "db50e7f2",
      "metadata": {
        "scrolled": true,
        "id": "db50e7f2"
      },
      "outputs": [],
      "source": [
        "df.loc[:4,['Doors','Price']]\n",
        "df.iloc[:4,[3,4]]\n",
        "df.iloc[[3,4],[3,4]]\n",
        "df.iloc[4:,2:]\n",
        "df.loc[(t['pclass']==1) & (t['sex']=='male'),'fare'].mean()"
      ]
    },
    {
      "cell_type": "code",
      "execution_count": null,
      "id": "ef7bb22a",
      "metadata": {
        "id": "ef7bb22a"
      },
      "outputs": [],
      "source": [
        "df.dropna(subset=['Make','Doors','Price'],inplace=True,axis=0,how='all')\n",
        "# how = any --> if any value in a row is null drop it, all--> if all values in a row are null, drop it"
      ]
    },
    {
      "cell_type": "code",
      "execution_count": null,
      "id": "ccd48c0e",
      "metadata": {
        "id": "ccd48c0e",
        "outputId": "6904a135-1779-454d-caa6-e86189b690df"
      },
      "outputs": [
        {
          "data": {
            "text/html": [
              "<div>\n",
              "<style scoped>\n",
              "    .dataframe tbody tr th:only-of-type {\n",
              "        vertical-align: middle;\n",
              "    }\n",
              "\n",
              "    .dataframe tbody tr th {\n",
              "        vertical-align: top;\n",
              "    }\n",
              "\n",
              "    .dataframe thead th {\n",
              "        text-align: right;\n",
              "    }\n",
              "</style>\n",
              "<table border=\"1\" class=\"dataframe\">\n",
              "  <thead>\n",
              "    <tr style=\"text-align: right;\">\n",
              "      <th></th>\n",
              "      <th>Make</th>\n",
              "      <th>Colour</th>\n",
              "      <th>Odometer</th>\n",
              "      <th>Doors</th>\n",
              "      <th>Price</th>\n",
              "    </tr>\n",
              "  </thead>\n",
              "  <tbody>\n",
              "    <tr>\n",
              "      <th>1</th>\n",
              "      <td>Honda</td>\n",
              "      <td>Red</td>\n",
              "      <td>87899.0</td>\n",
              "      <td>4.0</td>\n",
              "      <td>$5,000</td>\n",
              "    </tr>\n",
              "    <tr>\n",
              "      <th>6</th>\n",
              "      <td>Honda</td>\n",
              "      <td>NaN</td>\n",
              "      <td>NaN</td>\n",
              "      <td>4.0</td>\n",
              "      <td>$7,500</td>\n",
              "    </tr>\n",
              "    <tr>\n",
              "      <th>7</th>\n",
              "      <td>Honda</td>\n",
              "      <td>Blue</td>\n",
              "      <td>NaN</td>\n",
              "      <td>4.0</td>\n",
              "      <td>NaN</td>\n",
              "    </tr>\n",
              "  </tbody>\n",
              "</table>\n",
              "</div>"
            ],
            "text/plain": [
              "    Make Colour  Odometer  Doors   Price\n",
              "1  Honda    Red   87899.0    4.0  $5,000\n",
              "6  Honda    NaN       NaN    4.0  $7,500\n",
              "7  Honda   Blue       NaN    4.0     NaN"
            ]
          },
          "execution_count": 75,
          "metadata": {},
          "output_type": "execute_result"
        }
      ],
      "source": [
        "df[df['Make'].astype(str).str.contains('H')] # in make which is string, give results that contain H"
      ]
    },
    {
      "cell_type": "code",
      "execution_count": null,
      "id": "24c2683d",
      "metadata": {
        "id": "24c2683d",
        "outputId": "29327cf5-6d08-4b97-ed5d-5e07ebcdaa86"
      },
      "outputs": [
        {
          "data": {
            "text/html": [
              "<div>\n",
              "<style scoped>\n",
              "    .dataframe tbody tr th:only-of-type {\n",
              "        vertical-align: middle;\n",
              "    }\n",
              "\n",
              "    .dataframe tbody tr th {\n",
              "        vertical-align: top;\n",
              "    }\n",
              "\n",
              "    .dataframe thead th {\n",
              "        text-align: right;\n",
              "    }\n",
              "</style>\n",
              "<table border=\"1\" class=\"dataframe\">\n",
              "  <thead>\n",
              "    <tr style=\"text-align: right;\">\n",
              "      <th></th>\n",
              "      <th>Make</th>\n",
              "      <th>Colour</th>\n",
              "      <th>Odometer</th>\n",
              "      <th>Doors</th>\n",
              "    </tr>\n",
              "  </thead>\n",
              "  <tbody>\n",
              "    <tr>\n",
              "      <th>0</th>\n",
              "      <td>Toyota</td>\n",
              "      <td>White</td>\n",
              "      <td>150043.0</td>\n",
              "      <td>4.0</td>\n",
              "    </tr>\n",
              "    <tr>\n",
              "      <th>1</th>\n",
              "      <td>Honda</td>\n",
              "      <td>Red</td>\n",
              "      <td>87899.0</td>\n",
              "      <td>4.0</td>\n",
              "    </tr>\n",
              "    <tr>\n",
              "      <th>2</th>\n",
              "      <td>Toyota</td>\n",
              "      <td>Blue</td>\n",
              "      <td>NaN</td>\n",
              "      <td>3.0</td>\n",
              "    </tr>\n",
              "    <tr>\n",
              "      <th>3</th>\n",
              "      <td>BMW</td>\n",
              "      <td>Black</td>\n",
              "      <td>11179.0</td>\n",
              "      <td>5.0</td>\n",
              "    </tr>\n",
              "    <tr>\n",
              "      <th>4</th>\n",
              "      <td>Nissan</td>\n",
              "      <td>White</td>\n",
              "      <td>213095.0</td>\n",
              "      <td>4.0</td>\n",
              "    </tr>\n",
              "    <tr>\n",
              "      <th>5</th>\n",
              "      <td>Toyota</td>\n",
              "      <td>Green</td>\n",
              "      <td>NaN</td>\n",
              "      <td>4.0</td>\n",
              "    </tr>\n",
              "    <tr>\n",
              "      <th>6</th>\n",
              "      <td>Honda</td>\n",
              "      <td>NaN</td>\n",
              "      <td>NaN</td>\n",
              "      <td>4.0</td>\n",
              "    </tr>\n",
              "    <tr>\n",
              "      <th>7</th>\n",
              "      <td>Honda</td>\n",
              "      <td>Blue</td>\n",
              "      <td>NaN</td>\n",
              "      <td>4.0</td>\n",
              "    </tr>\n",
              "    <tr>\n",
              "      <th>8</th>\n",
              "      <td>Toyota</td>\n",
              "      <td>White</td>\n",
              "      <td>60000.0</td>\n",
              "      <td>NaN</td>\n",
              "    </tr>\n",
              "    <tr>\n",
              "      <th>9</th>\n",
              "      <td>NaN</td>\n",
              "      <td>White</td>\n",
              "      <td>31600.0</td>\n",
              "      <td>4.0</td>\n",
              "    </tr>\n",
              "  </tbody>\n",
              "</table>\n",
              "</div>"
            ],
            "text/plain": [
              "     Make Colour  Odometer  Doors\n",
              "0  Toyota  White  150043.0    4.0\n",
              "1   Honda    Red   87899.0    4.0\n",
              "2  Toyota   Blue       NaN    3.0\n",
              "3     BMW  Black   11179.0    5.0\n",
              "4  Nissan  White  213095.0    4.0\n",
              "5  Toyota  Green       NaN    4.0\n",
              "6   Honda    NaN       NaN    4.0\n",
              "7   Honda   Blue       NaN    4.0\n",
              "8  Toyota  White   60000.0    NaN\n",
              "9     NaN  White   31600.0    4.0"
            ]
          },
          "execution_count": 88,
          "metadata": {},
          "output_type": "execute_result"
        }
      ],
      "source": [
        "df[df['Make'].isin(df['Make'].tolist())][['Make', 'Colour', 'Odometer', 'Doors']]"
      ]
    },
    {
      "cell_type": "code",
      "execution_count": null,
      "id": "07c4837b",
      "metadata": {
        "id": "07c4837b"
      },
      "outputs": [],
      "source": [
        "t['age'].fillna(t['age'].mode,axis=0,inplace=True)\n",
        "\n",
        "#dropping rows of dataframe\n",
        "td.drop(labels=[4,6],axis=0)\n"
      ]
    },
    {
      "cell_type": "code",
      "execution_count": null,
      "id": "e2c11d83",
      "metadata": {
        "id": "e2c11d83",
        "outputId": "9931b192-0bfd-4123-a65a-da6f062ab25f"
      },
      "outputs": [
        {
          "data": {
            "text/html": [
              "<div>\n",
              "<style scoped>\n",
              "    .dataframe tbody tr th:only-of-type {\n",
              "        vertical-align: middle;\n",
              "    }\n",
              "\n",
              "    .dataframe tbody tr th {\n",
              "        vertical-align: top;\n",
              "    }\n",
              "\n",
              "    .dataframe thead th {\n",
              "        text-align: right;\n",
              "    }\n",
              "</style>\n",
              "<table border=\"1\" class=\"dataframe\">\n",
              "  <thead>\n",
              "    <tr style=\"text-align: right;\">\n",
              "      <th></th>\n",
              "      <th>Players</th>\n",
              "      <th>Points</th>\n",
              "      <th>Titles</th>\n",
              "    </tr>\n",
              "  </thead>\n",
              "  <tbody>\n",
              "    <tr>\n",
              "      <th>0</th>\n",
              "      <td>sak</td>\n",
              "      <td>8</td>\n",
              "      <td>G1</td>\n",
              "    </tr>\n",
              "    <tr>\n",
              "      <th>1</th>\n",
              "      <td>pra</td>\n",
              "      <td>9</td>\n",
              "      <td>G2</td>\n",
              "    </tr>\n",
              "    <tr>\n",
              "      <th>2</th>\n",
              "      <td>sum</td>\n",
              "      <td>10</td>\n",
              "      <td>G3</td>\n",
              "    </tr>\n",
              "  </tbody>\n",
              "</table>\n",
              "</div>"
            ],
            "text/plain": [
              "  Players  Points Titles\n",
              "0     sak       8     G1\n",
              "1     pra       9     G2\n",
              "2     sum      10     G3"
            ]
          },
          "execution_count": 133,
          "metadata": {},
          "output_type": "execute_result"
        }
      ],
      "source": [
        "player = ['sak','pra','sum']\n",
        "point = [8,9,10]\n",
        "title = ['G1','G2','G3']\n",
        "df1 = pd.DataFrame({\"Players\":player,\"Points\":point,\"Titles\":title})\n",
        "df1"
      ]
    },
    {
      "cell_type": "code",
      "execution_count": null,
      "id": "f083a004",
      "metadata": {
        "id": "f083a004",
        "outputId": "a0a15427-08d7-48f2-81a2-a3f44933b59e"
      },
      "outputs": [
        {
          "data": {
            "text/html": [
              "<div>\n",
              "<style scoped>\n",
              "    .dataframe tbody tr th:only-of-type {\n",
              "        vertical-align: middle;\n",
              "    }\n",
              "\n",
              "    .dataframe tbody tr th {\n",
              "        vertical-align: top;\n",
              "    }\n",
              "\n",
              "    .dataframe thead th {\n",
              "        text-align: right;\n",
              "    }\n",
              "</style>\n",
              "<table border=\"1\" class=\"dataframe\">\n",
              "  <thead>\n",
              "    <tr style=\"text-align: right;\">\n",
              "      <th></th>\n",
              "      <th>Players</th>\n",
              "      <th>Power</th>\n",
              "      <th>Titles</th>\n",
              "    </tr>\n",
              "  </thead>\n",
              "  <tbody>\n",
              "    <tr>\n",
              "      <th>0</th>\n",
              "      <td>sak</td>\n",
              "      <td>81</td>\n",
              "      <td>G4</td>\n",
              "    </tr>\n",
              "    <tr>\n",
              "      <th>1</th>\n",
              "      <td>ros</td>\n",
              "      <td>91</td>\n",
              "      <td>G5</td>\n",
              "    </tr>\n",
              "    <tr>\n",
              "      <th>2</th>\n",
              "      <td>che</td>\n",
              "      <td>110</td>\n",
              "      <td>G1</td>\n",
              "    </tr>\n",
              "  </tbody>\n",
              "</table>\n",
              "</div>"
            ],
            "text/plain": [
              "  Players  Power Titles\n",
              "0     sak     81     G4\n",
              "1     ros     91     G5\n",
              "2     che    110     G1"
            ]
          },
          "execution_count": 134,
          "metadata": {},
          "output_type": "execute_result"
        }
      ],
      "source": [
        "player = ['sak','ros','che']\n",
        "power = [81,91,110]\n",
        "title = ['G4','G5','G1']\n",
        "df2 = pd.DataFrame({\"Players\":player,\"Power\":power,\"Titles\":title})\n",
        "df2"
      ]
    },
    {
      "cell_type": "code",
      "execution_count": null,
      "id": "d96e208b",
      "metadata": {
        "id": "d96e208b",
        "outputId": "79db9d95-e020-4030-e3ad-3c1a4ffabdb2"
      },
      "outputs": [
        {
          "data": {
            "text/html": [
              "<div>\n",
              "<style scoped>\n",
              "    .dataframe tbody tr th:only-of-type {\n",
              "        vertical-align: middle;\n",
              "    }\n",
              "\n",
              "    .dataframe tbody tr th {\n",
              "        vertical-align: top;\n",
              "    }\n",
              "\n",
              "    .dataframe thead th {\n",
              "        text-align: right;\n",
              "    }\n",
              "</style>\n",
              "<table border=\"1\" class=\"dataframe\">\n",
              "  <thead>\n",
              "    <tr style=\"text-align: right;\">\n",
              "      <th></th>\n",
              "      <th>Players_x</th>\n",
              "      <th>Points</th>\n",
              "      <th>Titles</th>\n",
              "      <th>Players_y</th>\n",
              "      <th>Power</th>\n",
              "    </tr>\n",
              "  </thead>\n",
              "  <tbody>\n",
              "    <tr>\n",
              "      <th>0</th>\n",
              "      <td>NaN</td>\n",
              "      <td>NaN</td>\n",
              "      <td>G4</td>\n",
              "      <td>sak</td>\n",
              "      <td>81</td>\n",
              "    </tr>\n",
              "    <tr>\n",
              "      <th>1</th>\n",
              "      <td>NaN</td>\n",
              "      <td>NaN</td>\n",
              "      <td>G5</td>\n",
              "      <td>ros</td>\n",
              "      <td>91</td>\n",
              "    </tr>\n",
              "    <tr>\n",
              "      <th>2</th>\n",
              "      <td>sak</td>\n",
              "      <td>8.0</td>\n",
              "      <td>G1</td>\n",
              "      <td>che</td>\n",
              "      <td>110</td>\n",
              "    </tr>\n",
              "  </tbody>\n",
              "</table>\n",
              "</div>"
            ],
            "text/plain": [
              "  Players_x  Points Titles Players_y  Power\n",
              "0       NaN     NaN     G4       sak     81\n",
              "1       NaN     NaN     G5       ros     91\n",
              "2       sak     8.0     G1       che    110"
            ]
          },
          "execution_count": 135,
          "metadata": {},
          "output_type": "execute_result"
        }
      ],
      "source": [
        "df1.merge(df2,on='Titles',how='right')\n",
        "# inner(default),left(df1 all values will be there),outer(all), right(df2 all values will be there)"
      ]
    },
    {
      "cell_type": "code",
      "execution_count": null,
      "id": "a401eeb3",
      "metadata": {
        "id": "a401eeb3",
        "outputId": "72403ee2-3e61-4c02-8a20-59dfc9c7eb57"
      },
      "outputs": [
        {
          "data": {
            "text/html": [
              "<div>\n",
              "<style scoped>\n",
              "    .dataframe tbody tr th:only-of-type {\n",
              "        vertical-align: middle;\n",
              "    }\n",
              "\n",
              "    .dataframe tbody tr th {\n",
              "        vertical-align: top;\n",
              "    }\n",
              "\n",
              "    .dataframe thead th {\n",
              "        text-align: right;\n",
              "    }\n",
              "</style>\n",
              "<table border=\"1\" class=\"dataframe\">\n",
              "  <thead>\n",
              "    <tr style=\"text-align: right;\">\n",
              "      <th></th>\n",
              "      <th>Players</th>\n",
              "      <th>Points</th>\n",
              "      <th>Titles</th>\n",
              "      <th>Power</th>\n",
              "    </tr>\n",
              "  </thead>\n",
              "  <tbody>\n",
              "    <tr>\n",
              "      <th>0</th>\n",
              "      <td>sak</td>\n",
              "      <td>8.0</td>\n",
              "      <td>G1</td>\n",
              "      <td>NaN</td>\n",
              "    </tr>\n",
              "    <tr>\n",
              "      <th>1</th>\n",
              "      <td>pra</td>\n",
              "      <td>9.0</td>\n",
              "      <td>G2</td>\n",
              "      <td>NaN</td>\n",
              "    </tr>\n",
              "    <tr>\n",
              "      <th>2</th>\n",
              "      <td>sum</td>\n",
              "      <td>10.0</td>\n",
              "      <td>G3</td>\n",
              "      <td>NaN</td>\n",
              "    </tr>\n",
              "    <tr>\n",
              "      <th>0</th>\n",
              "      <td>sak</td>\n",
              "      <td>NaN</td>\n",
              "      <td>G4</td>\n",
              "      <td>81.0</td>\n",
              "    </tr>\n",
              "    <tr>\n",
              "      <th>1</th>\n",
              "      <td>ros</td>\n",
              "      <td>NaN</td>\n",
              "      <td>G5</td>\n",
              "      <td>91.0</td>\n",
              "    </tr>\n",
              "    <tr>\n",
              "      <th>2</th>\n",
              "      <td>che</td>\n",
              "      <td>NaN</td>\n",
              "      <td>G1</td>\n",
              "      <td>110.0</td>\n",
              "    </tr>\n",
              "  </tbody>\n",
              "</table>\n",
              "</div>"
            ],
            "text/plain": [
              "  Players  Points Titles  Power\n",
              "0     sak     8.0     G1    NaN\n",
              "1     pra     9.0     G2    NaN\n",
              "2     sum    10.0     G3    NaN\n",
              "0     sak     NaN     G4   81.0\n",
              "1     ros     NaN     G5   91.0\n",
              "2     che     NaN     G1  110.0"
            ]
          },
          "execution_count": 79,
          "metadata": {},
          "output_type": "execute_result"
        }
      ],
      "source": [
        "pd.concat([df1,df2])"
      ]
    },
    {
      "cell_type": "markdown",
      "id": "bb75c04b",
      "metadata": {
        "id": "bb75c04b"
      },
      "source": [
        "# Numpy Examples"
      ]
    },
    {
      "cell_type": "code",
      "execution_count": null,
      "id": "c07aa59b",
      "metadata": {
        "id": "c07aa59b"
      },
      "outputs": [],
      "source": [
        "import numpy as np"
      ]
    },
    {
      "cell_type": "code",
      "execution_count": null,
      "id": "9bf6ffc8",
      "metadata": {
        "id": "9bf6ffc8",
        "outputId": "7708e028-8ca2-4bd9-b2a0-e5ce76d03213"
      },
      "outputs": [
        {
          "data": {
            "text/plain": [
              "(numpy.ndarray, 1, (1, 3), 2, dtype('float64'), 3)"
            ]
          },
          "execution_count": 2,
          "metadata": {},
          "output_type": "execute_result"
        }
      ],
      "source": [
        "a1 = np.array([[1,2,3.]])\n",
        "type(a1), len(a1), a1.shape,a1.ndim,a1.dtype, a1.size"
      ]
    },
    {
      "cell_type": "code",
      "execution_count": null,
      "id": "f80f9ae3",
      "metadata": {
        "id": "f80f9ae3",
        "outputId": "e03eb09b-f80e-4568-8096-420a48d61906"
      },
      "outputs": [
        {
          "data": {
            "text/plain": [
              "(numpy.ndarray, 2, (2, 3), 2, dtype('float64'), 6)"
            ]
          },
          "execution_count": 3,
          "metadata": {},
          "output_type": "execute_result"
        }
      ],
      "source": [
        "a2 = np.array([[1,2,3],\n",
        "               [4,5,6]],dtype=float)\n",
        "type(a2),len(a2),a2.shape,a2.ndim,a2.dtype,a2.size"
      ]
    },
    {
      "cell_type": "code",
      "execution_count": null,
      "id": "4830547f",
      "metadata": {
        "id": "4830547f",
        "outputId": "3523991a-2508-49b3-b605-5c1d90345cce"
      },
      "outputs": [
        {
          "name": "stderr",
          "output_type": "stream",
          "text": [
            "C:\\Users\\acer\\Desktop\\sample_project_1\\env\\lib\\site-packages\\numpy\\core\\fromnumeric.py:86: VisibleDeprecationWarning: Creating an ndarray from ragged nested sequences (which is a list-or-tuple of lists-or-tuples-or ndarrays with different lengths or shapes) is deprecated. If you meant to do this, you must specify 'dtype=object' when creating the ndarray.\n",
            "  return ufunc.reduce(obj, axis, dtype, out, **passkwargs)\n"
          ]
        },
        {
          "data": {
            "text/plain": [
              "(numpy.ndarray, 2, (2, 3), 2, dtype('float64'))"
            ]
          },
          "execution_count": 4,
          "metadata": {},
          "output_type": "execute_result"
        }
      ],
      "source": [
        "a3 = np.sum([a1,a2],dtype=object)\n",
        "type(a3),len(a3),a3.shape,a3.ndim,a3.dtype"
      ]
    },
    {
      "cell_type": "code",
      "execution_count": null,
      "id": "e3fc06d9",
      "metadata": {
        "id": "e3fc06d9",
        "outputId": "999c2612-e777-4f09-8d64-031e2aa08ba0"
      },
      "outputs": [
        {
          "data": {
            "text/plain": [
              "(numpy.ndarray, 2, (2, 3, 3), 3, dtype('float64'), 18)"
            ]
          },
          "execution_count": 2,
          "metadata": {},
          "output_type": "execute_result"
        }
      ],
      "source": [
        "a4 = np.array([[[1,2,3.3],\n",
        "              [4.5,5.6,6.5],\n",
        "              [7.5,8,9]],\n",
        "             [[1,2,3],\n",
        "              [4,5,6],\n",
        "              [7,8,9]]])\n",
        "type(a4),len(a4), a4.shape,a4.ndim,a4.dtype,a4.size"
      ]
    },
    {
      "cell_type": "code",
      "execution_count": null,
      "id": "fd1229e2",
      "metadata": {
        "id": "fd1229e2",
        "outputId": "57f2dc5b-8ed5-4989-d072-d57142680e26"
      },
      "outputs": [
        {
          "data": {
            "text/plain": [
              "array([[[1. , 2. , 3.3],\n",
              "        [4.5, 5.6, 6.5],\n",
              "        [7.5, 8. , 9. ]],\n",
              "\n",
              "       [[1. , 2. , 3. ],\n",
              "        [4. , 5. , 6. ],\n",
              "        [7. , 8. , 9. ]]])"
            ]
          },
          "execution_count": 3,
          "metadata": {},
          "output_type": "execute_result"
        }
      ],
      "source": [
        "a4"
      ]
    },
    {
      "cell_type": "code",
      "execution_count": null,
      "id": "54c3fc54",
      "metadata": {
        "id": "54c3fc54",
        "outputId": "d1ef232e-77d2-4347-c43c-f83a440d6539"
      },
      "outputs": [
        {
          "data": {
            "text/plain": [
              "array([[1. , 2. ],\n",
              "       [3.3, 4.5],\n",
              "       [5.6, 6.5],\n",
              "       [7.5, 8. ],\n",
              "       [9. , 1. ],\n",
              "       [2. , 3. ],\n",
              "       [4. , 5. ],\n",
              "       [6. , 7. ],\n",
              "       [8. , 9. ]])"
            ]
          },
          "execution_count": 4,
          "metadata": {},
          "output_type": "execute_result"
        }
      ],
      "source": [
        "a4.reshape(9,2)"
      ]
    },
    {
      "cell_type": "code",
      "execution_count": null,
      "id": "baaea220",
      "metadata": {
        "id": "baaea220",
        "outputId": "fd300cba-983d-4acf-9a7e-48f77737140b"
      },
      "outputs": [
        {
          "data": {
            "text/plain": [
              "array([[[1. , 2. ],\n",
              "        [3.3, 4.5],\n",
              "        [5.6, 6.5],\n",
              "        [7.5, 8. ],\n",
              "        [9. , 1. ],\n",
              "        [2. , 3. ],\n",
              "        [4. , 5. ],\n",
              "        [6. , 7. ],\n",
              "        [8. , 9. ]]])"
            ]
          },
          "execution_count": 5,
          "metadata": {},
          "output_type": "execute_result"
        }
      ],
      "source": [
        "a4.reshape(-1,9,2)"
      ]
    },
    {
      "cell_type": "code",
      "execution_count": null,
      "id": "2c851be1",
      "metadata": {
        "id": "2c851be1"
      },
      "outputs": [],
      "source": [
        "a4.reshape(9,2,-1)"
      ]
    },
    {
      "cell_type": "code",
      "execution_count": null,
      "id": "b23f0f2d",
      "metadata": {
        "scrolled": true,
        "id": "b23f0f2d",
        "outputId": "12574d0f-7d97-4b77-8380-ae14da5ba3cd"
      },
      "outputs": [
        {
          "data": {
            "text/plain": [
              "array([[[[1. , 2. , 3.3],\n",
              "         [4.5, 5.6, 6.5],\n",
              "         [7.5, 8. , 9. ]],\n",
              "\n",
              "        [[1. , 2. , 3. ],\n",
              "         [4. , 5. , 6. ],\n",
              "         [7. , 8. , 9. ]]]])"
            ]
          },
          "execution_count": 13,
          "metadata": {},
          "output_type": "execute_result"
        }
      ],
      "source": [
        "a4.reshape(-1,2,3,3)"
      ]
    },
    {
      "cell_type": "code",
      "execution_count": null,
      "id": "2949eb5b",
      "metadata": {
        "id": "2949eb5b",
        "outputId": "4aeb5984-ff14-423f-fbd9-34dc3997b7b3"
      },
      "outputs": [
        {
          "data": {
            "text/plain": [
              "array([[[1. , 2. , 3.3],\n",
              "        [4.5, 5.6, 6.5],\n",
              "        [7.5, 8. , 9. ]],\n",
              "\n",
              "       [[1. , 2. , 3. ],\n",
              "        [4. , 5. , 6. ],\n",
              "        [7. , 8. , 9. ]]])"
            ]
          },
          "execution_count": 7,
          "metadata": {},
          "output_type": "execute_result"
        }
      ],
      "source": [
        "a4.reshape(2,3,3)"
      ]
    },
    {
      "cell_type": "code",
      "execution_count": null,
      "id": "4d40ff5d",
      "metadata": {
        "id": "4d40ff5d",
        "outputId": "9376f8d8-3ac6-4e4d-dbec-5ffbafc73b99"
      },
      "outputs": [
        {
          "data": {
            "text/plain": [
              "array([[1. ],\n",
              "       [2. ],\n",
              "       [3.3],\n",
              "       [4.5],\n",
              "       [5.6],\n",
              "       [6.5],\n",
              "       [7.5],\n",
              "       [8. ],\n",
              "       [9. ],\n",
              "       [1. ],\n",
              "       [2. ],\n",
              "       [3. ],\n",
              "       [4. ],\n",
              "       [5. ],\n",
              "       [6. ],\n",
              "       [7. ],\n",
              "       [8. ],\n",
              "       [9. ]])"
            ]
          },
          "execution_count": 11,
          "metadata": {},
          "output_type": "execute_result"
        }
      ],
      "source": [
        "a4.reshape(-1,1)"
      ]
    },
    {
      "cell_type": "code",
      "execution_count": null,
      "id": "6d1ce843",
      "metadata": {
        "id": "6d1ce843",
        "outputId": "5217884d-cb60-4fd2-b1d6-31de35ae8de2"
      },
      "outputs": [
        {
          "data": {
            "text/plain": [
              "array([[[1. ],\n",
              "        [4.5],\n",
              "        [7.5]],\n",
              "\n",
              "       [[1. ],\n",
              "        [4. ],\n",
              "        [7. ]]])"
            ]
          },
          "execution_count": 16,
          "metadata": {},
          "output_type": "execute_result"
        }
      ],
      "source": [
        "a4[:2,:3,:1]"
      ]
    },
    {
      "cell_type": "code",
      "execution_count": null,
      "id": "a860d750",
      "metadata": {
        "id": "a860d750",
        "outputId": "d61113c8-fc64-41e2-e19f-35cccd9cf4bb"
      },
      "outputs": [
        {
          "data": {
            "text/plain": [
              "array([[2. , 5.6, 8. ],\n",
              "       [2. , 5. , 8. ]])"
            ]
          },
          "execution_count": 18,
          "metadata": {},
          "output_type": "execute_result"
        }
      ],
      "source": [
        "a4[:2,:3,1]"
      ]
    },
    {
      "cell_type": "code",
      "execution_count": null,
      "id": "bbcc1665",
      "metadata": {
        "id": "bbcc1665",
        "outputId": "002aa592-2ab5-439f-fd10-d4c8bb36eb61"
      },
      "outputs": [
        {
          "data": {
            "text/plain": [
              "array([[[1. , 2. , 3.3],\n",
              "        [4.5, 5.6, 6.5],\n",
              "        [7.5, 8. , 9. ]],\n",
              "\n",
              "       [[1. , 2. , 3. ],\n",
              "        [4. , 5. , 6. ],\n",
              "        [7. , 8. , 9. ]]])"
            ]
          },
          "execution_count": 19,
          "metadata": {},
          "output_type": "execute_result"
        }
      ],
      "source": [
        "a4"
      ]
    },
    {
      "cell_type": "code",
      "execution_count": null,
      "id": "c9733428",
      "metadata": {
        "id": "c9733428",
        "outputId": "929e8cce-a0d9-44c4-92cb-e787bd3ba495"
      },
      "outputs": [
        {
          "data": {
            "text/plain": [
              "(array([[[1.]]]), array([[3.3]]))"
            ]
          },
          "execution_count": 20,
          "metadata": {},
          "output_type": "execute_result"
        }
      ],
      "source": [
        "a4[:1,:1,:1],a4[:1,:1,2]"
      ]
    },
    {
      "cell_type": "code",
      "execution_count": null,
      "id": "3b5b4bfe",
      "metadata": {
        "id": "3b5b4bfe",
        "outputId": "e0fbbbb1-19f0-414e-d4ec-140758d6ac00"
      },
      "outputs": [
        {
          "data": {
            "text/plain": [
              "array([[[1.    , 3.2332, 3.3   ],\n",
              "        [4.5   , 5.6   , 6.5   ],\n",
              "        [7.5   , 8.    , 9.    ]],\n",
              "\n",
              "       [[1.    , 2.    , 3.    ],\n",
              "        [4.    , 5.    , 6.    ],\n",
              "        [7.    , 8.    , 9.    ]]])"
            ]
          },
          "execution_count": 21,
          "metadata": {},
          "output_type": "execute_result"
        }
      ],
      "source": [
        "a4[:1,:1,1]=3.2332\n",
        "a4"
      ]
    },
    {
      "cell_type": "code",
      "execution_count": null,
      "id": "4799e2be",
      "metadata": {
        "id": "4799e2be",
        "outputId": "9544e3f6-e644-4204-e9a6-543c3ef51fb5"
      },
      "outputs": [
        {
          "data": {
            "text/plain": [
              "array([[ 1.,  8., 27.]])"
            ]
          },
          "execution_count": 22,
          "metadata": {},
          "output_type": "execute_result"
        }
      ],
      "source": [
        "pow(a1,3)"
      ]
    },
    {
      "cell_type": "code",
      "execution_count": null,
      "id": "00e8c8d4",
      "metadata": {
        "id": "00e8c8d4",
        "outputId": "567648f2-ecc5-49fb-b6a6-57b08ec8735b"
      },
      "outputs": [
        {
          "data": {
            "text/plain": [
              "array([[1., 2., 3.]])"
            ]
          },
          "execution_count": 23,
          "metadata": {},
          "output_type": "execute_result"
        }
      ],
      "source": [
        "a1"
      ]
    },
    {
      "cell_type": "code",
      "execution_count": null,
      "id": "d4792523",
      "metadata": {
        "id": "d4792523",
        "outputId": "7e726bb4-3e1b-4135-c2d7-9d34d139ee31"
      },
      "outputs": [
        {
          "data": {
            "text/plain": [
              "(array([[2., 3., 4.]]),\n",
              " array([[ True,  True,  True]]),\n",
              " array([1., 2., 6.]),\n",
              " array([1., 2., 3., 4., 5., 6.]))"
            ]
          },
          "execution_count": 31,
          "metadata": {},
          "output_type": "execute_result"
        }
      ],
      "source": [
        "a1+1, a1<5, a1.cumprod(),a2.flatten()"
      ]
    },
    {
      "cell_type": "code",
      "execution_count": null,
      "id": "fb1e4818",
      "metadata": {
        "scrolled": true,
        "id": "fb1e4818",
        "outputId": "bce3d079-e38b-49da-e7ea-5d1e6b0bc3eb"
      },
      "outputs": [
        {
          "data": {
            "text/plain": [
              "array([[1., 2., 3.],\n",
              "       [4., 5., 6.]])"
            ]
          },
          "execution_count": 8,
          "metadata": {},
          "output_type": "execute_result"
        }
      ],
      "source": [
        "a2"
      ]
    },
    {
      "cell_type": "code",
      "execution_count": null,
      "id": "6004793b",
      "metadata": {
        "id": "6004793b",
        "outputId": "d5a2b82e-b3a7-4328-8dfe-df62df30c2cd"
      },
      "outputs": [
        {
          "data": {
            "text/plain": [
              "array([[[1., 2.],\n",
              "        [3., 4.],\n",
              "        [5., 6.]]])"
            ]
          },
          "execution_count": 9,
          "metadata": {},
          "output_type": "execute_result"
        }
      ],
      "source": [
        "a2.reshape(-1,3,2)"
      ]
    },
    {
      "cell_type": "code",
      "execution_count": null,
      "id": "ffe416ab",
      "metadata": {
        "scrolled": true,
        "id": "ffe416ab",
        "outputId": "6471df8d-a2ef-4255-811c-8d806278678d"
      },
      "outputs": [
        {
          "data": {
            "text/plain": [
              "array([[1., 4.],\n",
              "       [2., 5.],\n",
              "       [3., 6.]])"
            ]
          },
          "execution_count": 10,
          "metadata": {},
          "output_type": "execute_result"
        }
      ],
      "source": [
        "np.swapaxes(a2,0,1)# a2 is of 2 dims, 0--row, 1-column"
      ]
    },
    {
      "cell_type": "code",
      "execution_count": null,
      "id": "633a0e64",
      "metadata": {
        "scrolled": true,
        "id": "633a0e64",
        "outputId": "ea939f69-c41c-4579-f08e-809c7154d8b3"
      },
      "outputs": [
        {
          "data": {
            "text/plain": [
              "array([[[1. , 2. , 3.3],\n",
              "        [4.5, 5.6, 6.5],\n",
              "        [7.5, 8. , 9. ]],\n",
              "\n",
              "       [[1. , 2. , 3. ],\n",
              "        [4. , 5. , 6. ],\n",
              "        [7. , 8. , 9. ]]])"
            ]
          },
          "execution_count": 11,
          "metadata": {},
          "output_type": "execute_result"
        }
      ],
      "source": [
        "a4"
      ]
    },
    {
      "cell_type": "code",
      "execution_count": null,
      "id": "30173842",
      "metadata": {
        "id": "30173842",
        "outputId": "9837cddf-aef0-4dfe-f285-937ffb359a8e"
      },
      "outputs": [
        {
          "data": {
            "text/plain": [
              "array([[[1. , 4.5, 7.5],\n",
              "        [2. , 5.6, 8. ],\n",
              "        [3.3, 6.5, 9. ]],\n",
              "\n",
              "       [[1. , 4. , 7. ],\n",
              "        [2. , 5. , 8. ],\n",
              "        [3. , 6. , 9. ]]])"
            ]
          },
          "execution_count": 12,
          "metadata": {},
          "output_type": "execute_result"
        }
      ],
      "source": [
        "np.swapaxes(a4,2,1)"
      ]
    },
    {
      "cell_type": "code",
      "execution_count": null,
      "id": "8787f1d8",
      "metadata": {
        "id": "8787f1d8",
        "outputId": "acd15fa1-b651-481d-b0ec-5409b20b8b02"
      },
      "outputs": [
        {
          "data": {
            "text/plain": [
              "array([[[ True,  True,  True],\n",
              "        [ True,  True,  True],\n",
              "        [ True,  True,  True]],\n",
              "\n",
              "       [[ True,  True,  True],\n",
              "        [ True,  True,  True],\n",
              "        [ True,  True,  True]]])"
            ]
          },
          "execution_count": 37,
          "metadata": {},
          "output_type": "execute_result"
        }
      ],
      "source": [
        "np.swapaxes(a4,1,2) ==np.swapaxes(a4,2,1)"
      ]
    },
    {
      "cell_type": "code",
      "execution_count": null,
      "id": "150578a0",
      "metadata": {
        "scrolled": true,
        "id": "150578a0",
        "outputId": "33b53ff3-94a6-43a8-b4e6-1502582a7f7d"
      },
      "outputs": [
        {
          "data": {
            "text/plain": [
              "array([[2., 4., 6.],\n",
              "       [5., 7., 9.]])"
            ]
          },
          "execution_count": 13,
          "metadata": {},
          "output_type": "execute_result"
        }
      ],
      "source": [
        "a3"
      ]
    },
    {
      "cell_type": "code",
      "execution_count": null,
      "id": "08840014",
      "metadata": {
        "id": "08840014",
        "outputId": "9035de64-01f5-47bc-80ef-34adf3efeb0c"
      },
      "outputs": [
        {
          "data": {
            "text/plain": [
              "(array([ 7., 11., 15.]),\n",
              " array([12., 21.]),\n",
              " array([[ 2.,  4.,  6.],\n",
              "        [ 7., 11., 15.]]),\n",
              " array([[ 2.,  6., 12.],\n",
              "        [ 5., 12., 21.]]))"
            ]
          },
          "execution_count": 14,
          "metadata": {},
          "output_type": "execute_result"
        }
      ],
      "source": [
        "a3.sum(axis=0),a3.sum(axis=1),a3.cumsum(axis=0),a3.cumsum(axis=1)"
      ]
    },
    {
      "cell_type": "code",
      "execution_count": null,
      "id": "935741d4",
      "metadata": {
        "id": "935741d4",
        "outputId": "6647e92d-8b9d-4d76-9a26-983f0c5fab41"
      },
      "outputs": [
        {
          "data": {
            "text/plain": [
              "(array([[0.69314718, 1.38629436, 1.79175947],\n",
              "        [1.60943791, 1.94591015, 2.19722458]]),\n",
              " array([[0.30103   , 0.60205999, 0.77815125],\n",
              "        [0.69897   , 0.84509804, 0.95424251]]))"
            ]
          },
          "execution_count": 15,
          "metadata": {},
          "output_type": "execute_result"
        }
      ],
      "source": [
        "np.log(a3),np.log10(a3)"
      ]
    },
    {
      "cell_type": "code",
      "execution_count": null,
      "id": "dea73d28",
      "metadata": {
        "id": "dea73d28",
        "outputId": "68ce6d88-ae04-4c53-ba99-e8d8e09a1532"
      },
      "outputs": [
        {
          "data": {
            "text/plain": [
              "(array([[[ 3.26530612e-01, -1.71428571e+00,  1.11836735e+00],\n",
              "         [-1.68367347e+00,  3.21428571e+00, -1.70408163e+00],\n",
              "         [ 1.22448980e+00, -1.42857143e+00,  6.93877551e-01]],\n",
              " \n",
              "        [[ 3.15251974e+15, -6.30503948e+15,  3.15251974e+15],\n",
              "         [-6.30503948e+15,  1.26100790e+16, -6.30503948e+15],\n",
              "         [ 3.15251974e+15, -6.30503948e+15,  3.15251974e+15]]]),\n",
              " array([-4.90000000e+00, -9.51619735e-16]))"
            ]
          },
          "execution_count": 16,
          "metadata": {},
          "output_type": "execute_result"
        }
      ],
      "source": [
        "np.linalg.inv(a4), np.linalg.det(a4)"
      ]
    },
    {
      "cell_type": "code",
      "execution_count": null,
      "id": "25de678e",
      "metadata": {
        "id": "25de678e",
        "outputId": "c6a4a031-18d0-4a8e-80ec-77ddd62d6610"
      },
      "outputs": [
        {
          "data": {
            "text/plain": [
              "(array([3, 2], dtype=int64), 3, 5.133333333333334)"
            ]
          },
          "execution_count": 17,
          "metadata": {},
          "output_type": "execute_result"
        }
      ],
      "source": [
        "# for checking dimension\n",
        "np.linalg.matrix_rank(a4),a4.ndim, a4.mean()"
      ]
    },
    {
      "cell_type": "code",
      "execution_count": null,
      "id": "b77d96fb",
      "metadata": {
        "scrolled": true,
        "id": "b77d96fb",
        "outputId": "c3079055-71ba-4b1c-cf28-2cccf4b234bd"
      },
      "outputs": [
        {
          "data": {
            "text/html": [
              "<div>\n",
              "<style scoped>\n",
              "    .dataframe tbody tr th:only-of-type {\n",
              "        vertical-align: middle;\n",
              "    }\n",
              "\n",
              "    .dataframe tbody tr th {\n",
              "        vertical-align: top;\n",
              "    }\n",
              "\n",
              "    .dataframe thead th {\n",
              "        text-align: right;\n",
              "    }\n",
              "</style>\n",
              "<table border=\"1\" class=\"dataframe\">\n",
              "  <thead>\n",
              "    <tr style=\"text-align: right;\">\n",
              "      <th></th>\n",
              "      <th>0</th>\n",
              "      <th>1</th>\n",
              "      <th>2</th>\n",
              "    </tr>\n",
              "  </thead>\n",
              "  <tbody>\n",
              "    <tr>\n",
              "      <th>0</th>\n",
              "      <td>2.0</td>\n",
              "      <td>4.0</td>\n",
              "      <td>6.0</td>\n",
              "    </tr>\n",
              "    <tr>\n",
              "      <th>1</th>\n",
              "      <td>5.0</td>\n",
              "      <td>7.0</td>\n",
              "      <td>9.0</td>\n",
              "    </tr>\n",
              "  </tbody>\n",
              "</table>\n",
              "</div>"
            ],
            "text/plain": [
              "     0    1    2\n",
              "0  2.0  4.0  6.0\n",
              "1  5.0  7.0  9.0"
            ]
          },
          "execution_count": 18,
          "metadata": {},
          "output_type": "execute_result"
        }
      ],
      "source": [
        "pd.DataFrame(a3)"
      ]
    },
    {
      "cell_type": "code",
      "execution_count": null,
      "id": "96d88e50",
      "metadata": {
        "id": "96d88e50",
        "outputId": "049e5813-355b-4a30-c6a1-d5e702797f35"
      },
      "outputs": [
        {
          "data": {
            "text/plain": [
              "array([-4.        , -3.86666667, -3.73333333, -3.6       , -3.46666667,\n",
              "       -3.33333333, -3.2       , -3.06666667, -2.93333333, -2.8       ,\n",
              "       -2.66666667, -2.53333333, -2.4       , -2.26666667, -2.13333333,\n",
              "       -2.        , -1.86666667, -1.73333333, -1.6       , -1.46666667,\n",
              "       -1.33333333, -1.2       , -1.06666667, -0.93333333, -0.8       ,\n",
              "       -0.66666667, -0.53333333, -0.4       , -0.26666667, -0.13333333,\n",
              "        0.        ,  0.13333333,  0.26666667,  0.4       ,  0.53333333,\n",
              "        0.66666667,  0.8       ,  0.93333333,  1.06666667,  1.2       ,\n",
              "        1.33333333,  1.46666667,  1.6       ,  1.73333333,  1.86666667,\n",
              "        2.        ,  2.13333333,  2.26666667,  2.4       ,  2.53333333,\n",
              "        2.66666667,  2.8       ,  2.93333333,  3.06666667,  3.2       ,\n",
              "        3.33333333,  3.46666667,  3.6       ,  3.73333333,  3.86666667,\n",
              "        4.        ])"
            ]
          },
          "execution_count": 8,
          "metadata": {},
          "output_type": "execute_result"
        }
      ],
      "source": [
        "#Numpy arrays\n",
        "np.linspace(-4,4,61)"
      ]
    },
    {
      "cell_type": "code",
      "execution_count": null,
      "id": "258c0781",
      "metadata": {
        "scrolled": true,
        "id": "258c0781",
        "outputId": "dd5409fd-3344-46e0-f30c-27b3f7c45ecb"
      },
      "outputs": [
        {
          "data": {
            "text/plain": [
              "array([[ 2,  4,  6,  8],\n",
              "       [10, 12, 14, 16],\n",
              "       [18, 20, 22, 24],\n",
              "       [26, 28, 30, 32]])"
            ]
          },
          "execution_count": 33,
          "metadata": {},
          "output_type": "execute_result"
        }
      ],
      "source": [
        "aa = np.arange(2,34,2).reshape(4,4)\n",
        "aa"
      ]
    },
    {
      "cell_type": "code",
      "execution_count": null,
      "id": "ba7da5d3",
      "metadata": {
        "id": "ba7da5d3",
        "outputId": "21697bc6-4b23-4991-afbb-26ea3b82123d"
      },
      "outputs": [
        {
          "data": {
            "text/plain": [
              "[40, 30, 8.1, True, 'apple', 30, 20, 10]"
            ]
          },
          "execution_count": 26,
          "metadata": {},
          "output_type": "execute_result"
        }
      ],
      "source": [
        "my_list = [10,20,30,'apple',True,8.10]\n",
        "my_list.extend([30,40])\n",
        "my_list.reverse()\n",
        "reversedList = my_list.copy()\n",
        "reversedList   "
      ]
    },
    {
      "cell_type": "code",
      "execution_count": null,
      "id": "92e60fe7",
      "metadata": {
        "id": "92e60fe7",
        "outputId": "6a281e39-949e-48c2-d9d3-982534dd45dc"
      },
      "outputs": [
        {
          "data": {
            "text/plain": [
              "[1,\n",
              " 2,\n",
              " 3,\n",
              " 'apple',\n",
              " 'mango',\n",
              " 10,\n",
              " 20,\n",
              " 30,\n",
              " 40,\n",
              " 50,\n",
              " 1,\n",
              " 2,\n",
              " 3,\n",
              " 'apple',\n",
              " 'mango',\n",
              " 10,\n",
              " 20,\n",
              " 30,\n",
              " 40,\n",
              " 50]"
            ]
          },
          "execution_count": 9,
          "metadata": {},
          "output_type": "execute_result"
        }
      ],
      "source": [
        "my_tuple = (1,2,3,'apple','mango')\n",
        "my_tuple\n",
        "numeric_tuple = (10,20,30,40,50)\n",
        "min(numeric_tuple)\n",
        "my_tuple += numeric_tuple\n",
        "r1 = my_tuple\n",
        "newdupli = []\n",
        "for i in r1:\n",
        "    newdupli.append(i)\n",
        "for i in r1:\n",
        "    newdupli.append(i)\n",
        "list(newdupli)\n",
        "newdupli"
      ]
    },
    {
      "cell_type": "code",
      "execution_count": null,
      "id": "d8d37de4",
      "metadata": {
        "id": "d8d37de4",
        "outputId": "ba3be3ee-10ca-4648-f36d-a79381063451"
      },
      "outputs": [
        {
          "name": "stdout",
          "output_type": "stream",
          "text": [
            "{1, 2, 3, 4, 5, 6, 7} {1, 2, 3} {4, 5}\n"
          ]
        }
      ],
      "source": [
        "set1 = {1,2,3,4,5}\n",
        "set2 = {2,3,7,6,1}\n",
        "union= set1.union(set2)\n",
        "intersection = set1.intersection(set2)\n",
        "difference = set1.difference(set2)\n",
        "print(union,intersection,difference)"
      ]
    },
    {
      "cell_type": "code",
      "execution_count": null,
      "id": "a20bd9b6",
      "metadata": {
        "scrolled": true,
        "id": "a20bd9b6",
        "outputId": "a66cded6-3b0d-41f9-e1f0-b3003a38f4bf"
      },
      "outputs": [
        {
          "data": {
            "text/plain": [
              "[array([[ 2,  4],\n",
              "        [10, 12],\n",
              "        [18, 20],\n",
              "        [26, 28]]),\n",
              " array([[ 6,  8],\n",
              "        [14, 16],\n",
              "        [22, 24],\n",
              "        [30, 32]])]"
            ]
          },
          "execution_count": 34,
          "metadata": {},
          "output_type": "execute_result"
        }
      ],
      "source": [
        "#hsplit is vertical split\n",
        "np.hsplit(aa,2)"
      ]
    },
    {
      "cell_type": "code",
      "execution_count": null,
      "id": "2443b67b",
      "metadata": {
        "scrolled": true,
        "id": "2443b67b",
        "outputId": "d537e234-6252-4484-c4f2-8030c9dae0db"
      },
      "outputs": [
        {
          "data": {
            "text/plain": [
              "array([[ 2,  4,  6,  8],\n",
              "       [10, 12, 14, 16],\n",
              "       [18, 20, 22, 24],\n",
              "       [26, 28, 30, 32]])"
            ]
          },
          "execution_count": 35,
          "metadata": {},
          "output_type": "execute_result"
        }
      ],
      "source": [
        "aa"
      ]
    },
    {
      "cell_type": "code",
      "execution_count": null,
      "id": "0f94b4e5",
      "metadata": {
        "scrolled": true,
        "id": "0f94b4e5",
        "outputId": "ae86223c-c49e-4ee2-e936-2b04d8b10ecb"
      },
      "outputs": [
        {
          "data": {
            "text/plain": [
              "[array([[ 2,  4,  6,  8],\n",
              "        [10, 12, 14, 16]]),\n",
              " array([[18, 20, 22, 24],\n",
              "        [26, 28, 30, 32]])]"
            ]
          },
          "execution_count": 36,
          "metadata": {},
          "output_type": "execute_result"
        }
      ],
      "source": [
        "#vsplit is horizontal split\n",
        "np.vsplit(aa,2)"
      ]
    },
    {
      "cell_type": "code",
      "execution_count": null,
      "id": "a0dcdc25",
      "metadata": {
        "id": "a0dcdc25",
        "outputId": "7cc36ef6-3f00-4ade-a9b6-a7d439ac569c"
      },
      "outputs": [
        {
          "data": {
            "text/plain": [
              "array([[0.03772742, 0.81360256, 0.02360913, 0.36380361, 0.30999626],\n",
              "       [0.71021288, 0.34755331, 0.50883741, 0.80329099, 0.50499152],\n",
              "       [0.79936153, 0.97197601, 0.39362109, 0.8622963 , 0.28871154]])"
            ]
          },
          "execution_count": 37,
          "metadata": {},
          "output_type": "execute_result"
        }
      ],
      "source": [
        "np.random.random(size=(3,5)) # 0-1"
      ]
    },
    {
      "cell_type": "code",
      "execution_count": null,
      "id": "6f19506e",
      "metadata": {
        "id": "6f19506e",
        "outputId": "65a78721-db52-4e9d-da74-e2590cba4f59"
      },
      "outputs": [
        {
          "data": {
            "text/plain": [
              "(array([ 1, 12, 21,  1, 12,  6, 14, 10, 19,  2, 11,  6, 10, 18, 16]),\n",
              " array([[18,  5,  7, 21, 16],\n",
              "        [23, 24,  7,  7,  1],\n",
              "        [ 9,  6, 28, 28, 28]]))"
            ]
          },
          "execution_count": 38,
          "metadata": {},
          "output_type": "execute_result"
        }
      ],
      "source": [
        "np.random.randint(1,30,size=15),np.random.randint(1,30,size=(3,5))"
      ]
    },
    {
      "cell_type": "code",
      "execution_count": null,
      "id": "d36f2feb",
      "metadata": {
        "id": "d36f2feb",
        "outputId": "fb03b384-3292-48c1-b5ec-ea4a62e1141e"
      },
      "outputs": [
        {
          "data": {
            "text/plain": [
              "array([[3.4833718 , 3.77276325, 3.48890583, 3.25573833],\n",
              "       [2.62996227, 4.52483633, 2.86772758, 2.64582163]])"
            ]
          },
          "execution_count": 39,
          "metadata": {},
          "output_type": "execute_result"
        }
      ],
      "source": [
        "np.random.normal(3, 1, size=(2, 4)) # 3 is normal distribution and 1 is SD"
      ]
    },
    {
      "cell_type": "code",
      "execution_count": null,
      "id": "d692f9bb",
      "metadata": {
        "id": "d692f9bb",
        "outputId": "9ce43d4f-1c6c-4f17-b7eb-3a518d170441"
      },
      "outputs": [
        {
          "data": {
            "text/plain": [
              "array([[10, 10],\n",
              "       [10, 10]])"
            ]
          },
          "execution_count": 44,
          "metadata": {},
          "output_type": "execute_result"
        }
      ],
      "source": [
        "a = np.full((2,2),10)\n",
        "a"
      ]
    },
    {
      "cell_type": "code",
      "execution_count": null,
      "id": "8da86d2b",
      "metadata": {
        "id": "8da86d2b",
        "outputId": "a92559fb-39f1-40e2-b51e-e4290e4c2986"
      },
      "outputs": [
        {
          "data": {
            "text/plain": [
              "(array([[1, 1],\n",
              "        [1, 1]]),\n",
              " array([[1., 0., 0.],\n",
              "        [0., 1., 0.],\n",
              "        [0., 0., 1.]]))"
            ]
          },
          "execution_count": 41,
          "metadata": {},
          "output_type": "execute_result"
        }
      ],
      "source": [
        "np.ones((2,2),dtype=int), np.eye(3)"
      ]
    },
    {
      "cell_type": "code",
      "execution_count": null,
      "id": "7991ab7d",
      "metadata": {
        "id": "7991ab7d",
        "outputId": "ecba914b-a9be-4179-890a-0cd1d8201ebd"
      },
      "outputs": [
        {
          "data": {
            "text/plain": [
              "array([[2, 7],\n",
              "       [7, 5]])"
            ]
          },
          "execution_count": 42,
          "metadata": {},
          "output_type": "execute_result"
        }
      ],
      "source": [
        "b = np.random.randint(1,10,size=(2,2))\n",
        "b"
      ]
    },
    {
      "cell_type": "code",
      "execution_count": null,
      "id": "e9bf2127",
      "metadata": {
        "id": "e9bf2127",
        "outputId": "ea5e16bc-6c89-49e3-b688-3f569bfb45fc"
      },
      "outputs": [
        {
          "data": {
            "text/plain": [
              "array([2, 5, 7])"
            ]
          },
          "execution_count": 43,
          "metadata": {},
          "output_type": "execute_result"
        }
      ],
      "source": [
        "np.unique(b)"
      ]
    },
    {
      "cell_type": "code",
      "execution_count": null,
      "id": "40b9229d",
      "metadata": {
        "scrolled": true,
        "id": "40b9229d",
        "outputId": "ed3dd917-03c7-434f-f9e0-1a07c6a0b5e8"
      },
      "outputs": [
        {
          "data": {
            "text/plain": [
              "array([[10, 10],\n",
              "       [10, 10],\n",
              "       [ 8,  3],\n",
              "       [ 6,  9]])"
            ]
          },
          "execution_count": 103,
          "metadata": {},
          "output_type": "execute_result"
        }
      ],
      "source": [
        "np.concatenate((a,b))# np.hstack((a,b)) , np.column_stack((a,b))"
      ]
    },
    {
      "cell_type": "code",
      "execution_count": null,
      "id": "ee6e426e",
      "metadata": {
        "id": "ee6e426e",
        "outputId": "1aba15fb-5490-4821-e457-344b49591b4a"
      },
      "outputs": [
        {
          "data": {
            "text/plain": [
              "(array([[10, 10,  8,  3],\n",
              "        [10, 10,  6,  9]]),\n",
              " array([[10, 10],\n",
              "        [10, 10],\n",
              "        [ 8,  3],\n",
              "        [ 6,  9]]),\n",
              " array([[10, 10,  8,  3],\n",
              "        [10, 10,  6,  9]]))"
            ]
          },
          "execution_count": 104,
          "metadata": {},
          "output_type": "execute_result"
        }
      ],
      "source": [
        "np.hstack((a,b)),np.vstack((a,b)),np.column_stack((a,b))"
      ]
    },
    {
      "cell_type": "code",
      "execution_count": null,
      "id": "bec5a240",
      "metadata": {
        "id": "bec5a240",
        "outputId": "7017fd55-d8fc-4db9-a5a7-bb47635f0e5e"
      },
      "outputs": [
        {
          "data": {
            "text/plain": [
              "(array([[10, 10],\n",
              "        [10, 10]]),\n",
              " array([[8, 3],\n",
              "        [6, 9]]))"
            ]
          },
          "execution_count": 105,
          "metadata": {},
          "output_type": "execute_result"
        }
      ],
      "source": [
        "a,b"
      ]
    },
    {
      "cell_type": "code",
      "execution_count": null,
      "id": "268fb112",
      "metadata": {
        "id": "268fb112",
        "outputId": "593023e0-7860-4a62-e7c7-5a93cde16058"
      },
      "outputs": [
        {
          "data": {
            "text/plain": [
              "(array([[20, 20],\n",
              "        [14, 12]]),\n",
              " array([[18, 13],\n",
              "        [16, 19]]),\n",
              " array([[False, False],\n",
              "        [False, False]]))"
            ]
          },
          "execution_count": 106,
          "metadata": {},
          "output_type": "execute_result"
        }
      ],
      "source": [
        "np.sum((a,b),axis=1),np.sum((a,b),axis=0),np.equal(a,b)"
      ]
    },
    {
      "cell_type": "code",
      "execution_count": null,
      "id": "abfdf922",
      "metadata": {
        "id": "abfdf922",
        "outputId": "25deb78a-254e-4a3e-c4e6-96cfdaa5b7bf"
      },
      "outputs": [
        {
          "data": {
            "text/plain": [
              "(array([[12, 17],\n",
              "        [17, 15]]),\n",
              " array([[8, 3],\n",
              "        [3, 5]]),\n",
              " array([[20, 70],\n",
              "        [70, 50]]),\n",
              " array([[5.        , 1.42857143],\n",
              "        [1.42857143, 2.        ]]),\n",
              " array([[20, 70],\n",
              "        [70, 50]]),\n",
              " array([[[ 90, 120],\n",
              "         [ 90, 120]]]))"
            ]
          },
          "execution_count": 45,
          "metadata": {},
          "output_type": "execute_result"
        }
      ],
      "source": [
        "np.add(a,b), np.subtract(a,b),np.multiply(a,b),np.divide(a,b), a*b , np.dot(a,b).reshape(-1,2,2)"
      ]
    },
    {
      "cell_type": "code",
      "execution_count": null,
      "id": "0658428e",
      "metadata": {
        "id": "0658428e",
        "outputId": "e8d83ffb-c31f-4561-ff00-5d13da0f8e96"
      },
      "outputs": [
        {
          "data": {
            "text/plain": [
              "(array([[100, 100],\n",
              "        [100, 100]], dtype=int32),\n",
              " array([[1000, 1000],\n",
              "        [1000, 1000]], dtype=int32))"
            ]
          },
          "execution_count": 108,
          "metadata": {},
          "output_type": "execute_result"
        }
      ],
      "source": [
        "np.square(a), np.power(a,3)"
      ]
    },
    {
      "cell_type": "code",
      "execution_count": null,
      "id": "967d0f31",
      "metadata": {
        "id": "967d0f31",
        "outputId": "6525bd1b-8008-443c-aec5-39959987a2e7"
      },
      "outputs": [
        {
          "data": {
            "text/plain": [
              "(array([[22026.46579481, 22026.46579481],\n",
              "        [22026.46579481, 22026.46579481]]),\n",
              " array([[1024., 1024.],\n",
              "        [1024., 1024.]]))"
            ]
          },
          "execution_count": 109,
          "metadata": {},
          "output_type": "execute_result"
        }
      ],
      "source": [
        "np.exp(a), np.exp2(a)"
      ]
    },
    {
      "cell_type": "code",
      "execution_count": null,
      "id": "336a59d7",
      "metadata": {
        "id": "336a59d7"
      },
      "outputs": [],
      "source": [
        "c = np.random.random(10000)"
      ]
    },
    {
      "cell_type": "code",
      "execution_count": null,
      "id": "cf087235",
      "metadata": {
        "id": "cf087235"
      },
      "outputs": [],
      "source": [
        "#working with dot product\n",
        "a = np.random.randint(10,size=(4,3))\n",
        "b = np.random.randint(10,size=(4,3))"
      ]
    },
    {
      "cell_type": "code",
      "execution_count": null,
      "id": "9e673d96",
      "metadata": {
        "id": "9e673d96",
        "outputId": "17f2ce5d-e34e-40d0-ea06-7ce7c17011ba"
      },
      "outputs": [
        {
          "data": {
            "text/plain": [
              "(array([[3, 0, 3],\n",
              "        [6, 1, 0],\n",
              "        [0, 5, 5],\n",
              "        [0, 2, 6]]),\n",
              " array([[0, 3, 4],\n",
              "        [7, 5, 0],\n",
              "        [3, 4, 2],\n",
              "        [4, 2, 8]]))"
            ]
          },
          "execution_count": 115,
          "metadata": {},
          "output_type": "execute_result"
        }
      ],
      "source": [
        "a,b"
      ]
    },
    {
      "cell_type": "code",
      "execution_count": null,
      "id": "599bc42c",
      "metadata": {
        "id": "599bc42c",
        "outputId": "8b4250e7-2b89-4011-96ad-b607ca6475cd"
      },
      "outputs": [
        {
          "data": {
            "text/plain": [
              "array([[ 0,  0, 12],\n",
              "       [42,  5,  0],\n",
              "       [ 0, 20, 10],\n",
              "       [ 0,  4, 48]])"
            ]
          },
          "execution_count": 116,
          "metadata": {},
          "output_type": "execute_result"
        }
      ],
      "source": [
        "a*b"
      ]
    },
    {
      "cell_type": "code",
      "execution_count": null,
      "id": "fc58edba",
      "metadata": {
        "id": "fc58edba",
        "outputId": "8778b512-729f-4b2d-fa99-9d3f5dabdee8"
      },
      "outputs": [
        {
          "data": {
            "text/plain": [
              "array([[0, 7, 3, 4],\n",
              "       [3, 5, 4, 2],\n",
              "       [4, 0, 2, 8]])"
            ]
          },
          "execution_count": 117,
          "metadata": {},
          "output_type": "execute_result"
        }
      ],
      "source": [
        "b = b.T\n",
        "b"
      ]
    },
    {
      "cell_type": "code",
      "execution_count": null,
      "id": "0bd97e1c",
      "metadata": {
        "id": "0bd97e1c",
        "outputId": "d26f69e8-d0c5-4189-89a3-d094f7834dbd"
      },
      "outputs": [
        {
          "data": {
            "text/plain": [
              "(array([[12, 21, 15, 36],\n",
              "        [ 3, 47, 22, 26],\n",
              "        [35, 25, 30, 50],\n",
              "        [30, 10, 20, 52]]),\n",
              " array([[12, 21, 15, 36],\n",
              "        [ 3, 47, 22, 26],\n",
              "        [35, 25, 30, 50],\n",
              "        [30, 10, 20, 52]]))"
            ]
          },
          "execution_count": 118,
          "metadata": {},
          "output_type": "execute_result"
        }
      ],
      "source": [
        "np.dot(a,b), np.matmul(a,b)"
      ]
    },
    {
      "cell_type": "code",
      "execution_count": null,
      "id": "665afc36",
      "metadata": {
        "id": "665afc36",
        "outputId": "d2d4c902-187b-45b3-fa4f-2c0c774637b3"
      },
      "outputs": [
        {
          "data": {
            "text/plain": [
              "((4, 3), (3, 4))"
            ]
          },
          "execution_count": 119,
          "metadata": {},
          "output_type": "execute_result"
        }
      ],
      "source": [
        "a.shape, b.shape"
      ]
    },
    {
      "cell_type": "code",
      "execution_count": null,
      "id": "d4539232",
      "metadata": {
        "id": "d4539232",
        "outputId": "9e954d1a-e37d-4aa7-d2f0-e5c9f194afb2"
      },
      "outputs": [
        {
          "data": {
            "text/plain": [
              "array([[ 6, 19, 14],\n",
              "       [10,  7,  6],\n",
              "       [18, 10, 10],\n",
              "       [ 3,  7,  2],\n",
              "       [ 1, 11,  5]])"
            ]
          },
          "execution_count": 46,
          "metadata": {},
          "output_type": "execute_result"
        }
      ],
      "source": [
        "np.random.seed(42)\n",
        "sm = np.random.randint(20,size=(5,3))\n",
        "sm"
      ]
    },
    {
      "cell_type": "code",
      "execution_count": null,
      "id": "89a3eb4f",
      "metadata": {
        "id": "89a3eb4f",
        "outputId": "5b4fc90c-83f0-4ec5-e40b-d0a3c671b8d8"
      },
      "outputs": [
        {
          "data": {
            "text/html": [
              "<div>\n",
              "<style scoped>\n",
              "    .dataframe tbody tr th:only-of-type {\n",
              "        vertical-align: middle;\n",
              "    }\n",
              "\n",
              "    .dataframe tbody tr th {\n",
              "        vertical-align: top;\n",
              "    }\n",
              "\n",
              "    .dataframe thead th {\n",
              "        text-align: right;\n",
              "    }\n",
              "</style>\n",
              "<table border=\"1\" class=\"dataframe\">\n",
              "  <thead>\n",
              "    <tr style=\"text-align: right;\">\n",
              "      <th></th>\n",
              "      <th>Almond</th>\n",
              "      <th>Peanut</th>\n",
              "      <th>Cashew</th>\n",
              "    </tr>\n",
              "  </thead>\n",
              "  <tbody>\n",
              "    <tr>\n",
              "      <th>Monday</th>\n",
              "      <td>6</td>\n",
              "      <td>19</td>\n",
              "      <td>14</td>\n",
              "    </tr>\n",
              "    <tr>\n",
              "      <th>Tuesday</th>\n",
              "      <td>10</td>\n",
              "      <td>7</td>\n",
              "      <td>6</td>\n",
              "    </tr>\n",
              "    <tr>\n",
              "      <th>Wednesday</th>\n",
              "      <td>18</td>\n",
              "      <td>10</td>\n",
              "      <td>10</td>\n",
              "    </tr>\n",
              "    <tr>\n",
              "      <th>Thursday</th>\n",
              "      <td>3</td>\n",
              "      <td>7</td>\n",
              "      <td>2</td>\n",
              "    </tr>\n",
              "    <tr>\n",
              "      <th>Friday</th>\n",
              "      <td>1</td>\n",
              "      <td>11</td>\n",
              "      <td>5</td>\n",
              "    </tr>\n",
              "  </tbody>\n",
              "</table>\n",
              "</div>"
            ],
            "text/plain": [
              "           Almond  Peanut  Cashew\n",
              "Monday          6      19      14\n",
              "Tuesday        10       7       6\n",
              "Wednesday      18      10      10\n",
              "Thursday        3       7       2\n",
              "Friday          1      11       5"
            ]
          },
          "execution_count": 47,
          "metadata": {},
          "output_type": "execute_result"
        }
      ],
      "source": [
        "index = ['Monday','Tuesday','Wednesday','Thursday','Friday']\n",
        "column = ['Almond','Peanut','Cashew']\n",
        "df1 = pd.DataFrame(sm,index=index,columns=column)\n",
        "df1"
      ]
    },
    {
      "cell_type": "code",
      "execution_count": null,
      "id": "20e2d1dc",
      "metadata": {
        "id": "20e2d1dc",
        "outputId": "90775684-ae0f-49b6-bd3c-14bc8cd16478"
      },
      "outputs": [
        {
          "data": {
            "text/plain": [
              "(3,)"
            ]
          },
          "execution_count": 48,
          "metadata": {},
          "output_type": "execute_result"
        }
      ],
      "source": [
        "prices = np.array([10,8,12])#usin np.array and not series has reshape will not happen \n",
        "prices.shape"
      ]
    },
    {
      "cell_type": "code",
      "execution_count": null,
      "id": "8c7b8319",
      "metadata": {
        "id": "8c7b8319",
        "outputId": "8772ef70-2482-40d7-8b7a-8bfca7535fed"
      },
      "outputs": [
        {
          "data": {
            "text/html": [
              "<div>\n",
              "<style scoped>\n",
              "    .dataframe tbody tr th:only-of-type {\n",
              "        vertical-align: middle;\n",
              "    }\n",
              "\n",
              "    .dataframe tbody tr th {\n",
              "        vertical-align: top;\n",
              "    }\n",
              "\n",
              "    .dataframe thead th {\n",
              "        text-align: right;\n",
              "    }\n",
              "</style>\n",
              "<table border=\"1\" class=\"dataframe\">\n",
              "  <thead>\n",
              "    <tr style=\"text-align: right;\">\n",
              "      <th></th>\n",
              "      <th>Almond</th>\n",
              "      <th>Peanut</th>\n",
              "      <th>Cashew</th>\n",
              "    </tr>\n",
              "  </thead>\n",
              "  <tbody>\n",
              "    <tr>\n",
              "      <th>PRICES</th>\n",
              "      <td>10</td>\n",
              "      <td>8</td>\n",
              "      <td>12</td>\n",
              "    </tr>\n",
              "  </tbody>\n",
              "</table>\n",
              "</div>"
            ],
            "text/plain": [
              "        Almond  Peanut  Cashew\n",
              "PRICES      10       8      12"
            ]
          },
          "execution_count": 49,
          "metadata": {},
          "output_type": "execute_result"
        }
      ],
      "source": [
        "df2 = pd.DataFrame(prices.reshape(1,3),index=['PRICES'],columns=column)\n",
        "df2"
      ]
    },
    {
      "cell_type": "code",
      "execution_count": null,
      "id": "bbc074a5",
      "metadata": {
        "id": "bbc074a5",
        "outputId": "ed0eee77-74ef-43ab-a440-6277d4629371"
      },
      "outputs": [
        {
          "data": {
            "text/html": [
              "<div>\n",
              "<style scoped>\n",
              "    .dataframe tbody tr th:only-of-type {\n",
              "        vertical-align: middle;\n",
              "    }\n",
              "\n",
              "    .dataframe tbody tr th {\n",
              "        vertical-align: top;\n",
              "    }\n",
              "\n",
              "    .dataframe thead th {\n",
              "        text-align: right;\n",
              "    }\n",
              "</style>\n",
              "<table border=\"1\" class=\"dataframe\">\n",
              "  <thead>\n",
              "    <tr style=\"text-align: right;\">\n",
              "      <th></th>\n",
              "      <th>Almond</th>\n",
              "      <th>Peanut</th>\n",
              "      <th>Cashew</th>\n",
              "    </tr>\n",
              "  </thead>\n",
              "  <tbody>\n",
              "    <tr>\n",
              "      <th>Monday</th>\n",
              "      <td>6</td>\n",
              "      <td>19</td>\n",
              "      <td>14</td>\n",
              "    </tr>\n",
              "    <tr>\n",
              "      <th>Tuesday</th>\n",
              "      <td>10</td>\n",
              "      <td>7</td>\n",
              "      <td>6</td>\n",
              "    </tr>\n",
              "    <tr>\n",
              "      <th>Wednesday</th>\n",
              "      <td>18</td>\n",
              "      <td>10</td>\n",
              "      <td>10</td>\n",
              "    </tr>\n",
              "    <tr>\n",
              "      <th>Thursday</th>\n",
              "      <td>3</td>\n",
              "      <td>7</td>\n",
              "      <td>2</td>\n",
              "    </tr>\n",
              "    <tr>\n",
              "      <th>Friday</th>\n",
              "      <td>1</td>\n",
              "      <td>11</td>\n",
              "      <td>5</td>\n",
              "    </tr>\n",
              "    <tr>\n",
              "      <th>PRICES</th>\n",
              "      <td>10</td>\n",
              "      <td>8</td>\n",
              "      <td>12</td>\n",
              "    </tr>\n",
              "  </tbody>\n",
              "</table>\n",
              "</div>"
            ],
            "text/plain": [
              "           Almond  Peanut  Cashew\n",
              "Monday          6      19      14\n",
              "Tuesday        10       7       6\n",
              "Wednesday      18      10      10\n",
              "Thursday        3       7       2\n",
              "Friday          1      11       5\n",
              "PRICES         10       8      12"
            ]
          },
          "execution_count": 50,
          "metadata": {},
          "output_type": "execute_result"
        }
      ],
      "source": [
        "df3 = [df1,df2]\n",
        "df3 = pd.concat(df3)\n",
        "df3"
      ]
    },
    {
      "cell_type": "code",
      "execution_count": null,
      "id": "c0a8a5f8",
      "metadata": {
        "id": "c0a8a5f8",
        "outputId": "f5a76d98-66da-43e8-e9a5-a17e6856df0d"
      },
      "outputs": [
        {
          "data": {
            "text/plain": [
              "(array([[10],\n",
              "        [ 8],\n",
              "        [12]]),\n",
              " (3, 1))"
            ]
          },
          "execution_count": 51,
          "metadata": {},
          "output_type": "execute_result"
        }
      ],
      "source": [
        "prices = prices.reshape(3,1)\n",
        "prices, prices.shape"
      ]
    },
    {
      "cell_type": "code",
      "execution_count": null,
      "id": "0678c096",
      "metadata": {
        "id": "0678c096",
        "outputId": "0430f452-e381-4ef6-fcb6-230fc231dee8"
      },
      "outputs": [
        {
          "data": {
            "text/html": [
              "<div>\n",
              "<style scoped>\n",
              "    .dataframe tbody tr th:only-of-type {\n",
              "        vertical-align: middle;\n",
              "    }\n",
              "\n",
              "    .dataframe tbody tr th {\n",
              "        vertical-align: top;\n",
              "    }\n",
              "\n",
              "    .dataframe thead th {\n",
              "        text-align: right;\n",
              "    }\n",
              "</style>\n",
              "<table border=\"1\" class=\"dataframe\">\n",
              "  <thead>\n",
              "    <tr style=\"text-align: right;\">\n",
              "      <th></th>\n",
              "      <th>0</th>\n",
              "    </tr>\n",
              "  </thead>\n",
              "  <tbody>\n",
              "    <tr>\n",
              "      <th>Monday</th>\n",
              "      <td>380</td>\n",
              "    </tr>\n",
              "    <tr>\n",
              "      <th>Tuesday</th>\n",
              "      <td>228</td>\n",
              "    </tr>\n",
              "    <tr>\n",
              "      <th>Wednesday</th>\n",
              "      <td>380</td>\n",
              "    </tr>\n",
              "    <tr>\n",
              "      <th>Thursday</th>\n",
              "      <td>110</td>\n",
              "    </tr>\n",
              "    <tr>\n",
              "      <th>Friday</th>\n",
              "      <td>158</td>\n",
              "    </tr>\n",
              "  </tbody>\n",
              "</table>\n",
              "</div>"
            ],
            "text/plain": [
              "             0\n",
              "Monday     380\n",
              "Tuesday    228\n",
              "Wednesday  380\n",
              "Thursday   110\n",
              "Friday     158"
            ]
          },
          "execution_count": 52,
          "metadata": {},
          "output_type": "execute_result"
        }
      ],
      "source": [
        "df4 = df1.dot(prices)\n",
        "df4"
      ]
    },
    {
      "cell_type": "code",
      "execution_count": null,
      "id": "484ee767",
      "metadata": {
        "id": "484ee767",
        "outputId": "101602b2-8ca2-4aaf-ebbc-623c1f459b3f"
      },
      "outputs": [
        {
          "data": {
            "text/html": [
              "<div>\n",
              "<style scoped>\n",
              "    .dataframe tbody tr th:only-of-type {\n",
              "        vertical-align: middle;\n",
              "    }\n",
              "\n",
              "    .dataframe tbody tr th {\n",
              "        vertical-align: top;\n",
              "    }\n",
              "\n",
              "    .dataframe thead th {\n",
              "        text-align: right;\n",
              "    }\n",
              "</style>\n",
              "<table border=\"1\" class=\"dataframe\">\n",
              "  <thead>\n",
              "    <tr style=\"text-align: right;\">\n",
              "      <th></th>\n",
              "      <th>Almond</th>\n",
              "      <th>Peanut</th>\n",
              "      <th>Cashew</th>\n",
              "      <th>Total (₹)</th>\n",
              "    </tr>\n",
              "  </thead>\n",
              "  <tbody>\n",
              "    <tr>\n",
              "      <th>Monday</th>\n",
              "      <td>6</td>\n",
              "      <td>19</td>\n",
              "      <td>14</td>\n",
              "      <td>380.0</td>\n",
              "    </tr>\n",
              "    <tr>\n",
              "      <th>Tuesday</th>\n",
              "      <td>10</td>\n",
              "      <td>7</td>\n",
              "      <td>6</td>\n",
              "      <td>228.0</td>\n",
              "    </tr>\n",
              "    <tr>\n",
              "      <th>Wednesday</th>\n",
              "      <td>18</td>\n",
              "      <td>10</td>\n",
              "      <td>10</td>\n",
              "      <td>380.0</td>\n",
              "    </tr>\n",
              "    <tr>\n",
              "      <th>Thursday</th>\n",
              "      <td>3</td>\n",
              "      <td>7</td>\n",
              "      <td>2</td>\n",
              "      <td>110.0</td>\n",
              "    </tr>\n",
              "    <tr>\n",
              "      <th>Friday</th>\n",
              "      <td>1</td>\n",
              "      <td>11</td>\n",
              "      <td>5</td>\n",
              "      <td>158.0</td>\n",
              "    </tr>\n",
              "    <tr>\n",
              "      <th>PRICES</th>\n",
              "      <td>10</td>\n",
              "      <td>8</td>\n",
              "      <td>12</td>\n",
              "      <td>NaN</td>\n",
              "    </tr>\n",
              "  </tbody>\n",
              "</table>\n",
              "</div>"
            ],
            "text/plain": [
              "           Almond  Peanut  Cashew  Total (₹)\n",
              "Monday          6      19      14      380.0\n",
              "Tuesday        10       7       6      228.0\n",
              "Wednesday      18      10      10      380.0\n",
              "Thursday        3       7       2      110.0\n",
              "Friday          1      11       5      158.0\n",
              "PRICES         10       8      12        NaN"
            ]
          },
          "execution_count": 53,
          "metadata": {},
          "output_type": "execute_result"
        }
      ],
      "source": [
        "df3['Total (₹)'] = df4\n",
        "df3"
      ]
    },
    {
      "cell_type": "code",
      "execution_count": null,
      "id": "fed29b69",
      "metadata": {
        "id": "fed29b69"
      },
      "outputs": [],
      "source": [
        "a = pd.Series(df3['Total (₹)'])\n",
        "df3.iloc[-1,-1] = a.sum()"
      ]
    },
    {
      "cell_type": "code",
      "execution_count": null,
      "id": "5a26d680",
      "metadata": {
        "id": "5a26d680",
        "outputId": "1b9862e8-34ee-43ab-e9d8-99ad816e1273"
      },
      "outputs": [
        {
          "data": {
            "text/html": [
              "<div>\n",
              "<style scoped>\n",
              "    .dataframe tbody tr th:only-of-type {\n",
              "        vertical-align: middle;\n",
              "    }\n",
              "\n",
              "    .dataframe tbody tr th {\n",
              "        vertical-align: top;\n",
              "    }\n",
              "\n",
              "    .dataframe thead th {\n",
              "        text-align: right;\n",
              "    }\n",
              "</style>\n",
              "<table border=\"1\" class=\"dataframe\">\n",
              "  <thead>\n",
              "    <tr style=\"text-align: right;\">\n",
              "      <th></th>\n",
              "      <th>Almond</th>\n",
              "      <th>Peanut</th>\n",
              "      <th>Cashew</th>\n",
              "      <th>Total (₹)</th>\n",
              "    </tr>\n",
              "  </thead>\n",
              "  <tbody>\n",
              "    <tr>\n",
              "      <th>Monday</th>\n",
              "      <td>6</td>\n",
              "      <td>19</td>\n",
              "      <td>14</td>\n",
              "      <td>380.0</td>\n",
              "    </tr>\n",
              "    <tr>\n",
              "      <th>Tuesday</th>\n",
              "      <td>10</td>\n",
              "      <td>7</td>\n",
              "      <td>6</td>\n",
              "      <td>228.0</td>\n",
              "    </tr>\n",
              "    <tr>\n",
              "      <th>Wednesday</th>\n",
              "      <td>18</td>\n",
              "      <td>10</td>\n",
              "      <td>10</td>\n",
              "      <td>380.0</td>\n",
              "    </tr>\n",
              "    <tr>\n",
              "      <th>Thursday</th>\n",
              "      <td>3</td>\n",
              "      <td>7</td>\n",
              "      <td>2</td>\n",
              "      <td>110.0</td>\n",
              "    </tr>\n",
              "    <tr>\n",
              "      <th>Friday</th>\n",
              "      <td>1</td>\n",
              "      <td>11</td>\n",
              "      <td>5</td>\n",
              "      <td>158.0</td>\n",
              "    </tr>\n",
              "    <tr>\n",
              "      <th>PRICES</th>\n",
              "      <td>10</td>\n",
              "      <td>8</td>\n",
              "      <td>12</td>\n",
              "      <td>1256.0</td>\n",
              "    </tr>\n",
              "  </tbody>\n",
              "</table>\n",
              "</div>"
            ],
            "text/plain": [
              "           Almond  Peanut  Cashew  Total (₹)\n",
              "Monday          6      19      14      380.0\n",
              "Tuesday        10       7       6      228.0\n",
              "Wednesday      18      10      10      380.0\n",
              "Thursday        3       7       2      110.0\n",
              "Friday          1      11       5      158.0\n",
              "PRICES         10       8      12     1256.0"
            ]
          },
          "execution_count": 55,
          "metadata": {},
          "output_type": "execute_result"
        }
      ],
      "source": [
        "df3"
      ]
    },
    {
      "cell_type": "code",
      "execution_count": null,
      "id": "57034f40",
      "metadata": {
        "id": "57034f40",
        "outputId": "7d980db8-7d12-4b3d-f302-5ce4d7e33243"
      },
      "outputs": [
        {
          "data": {
            "text/plain": [
              "array([[1, 4, 0, 9, 5],\n",
              "       [8, 0, 9, 2, 6],\n",
              "       [3, 8, 2, 4, 2]])"
            ]
          },
          "execution_count": 56,
          "metadata": {},
          "output_type": "execute_result"
        }
      ],
      "source": [
        "r = np.random.randint(10,size=(3,5))\n",
        "r"
      ]
    },
    {
      "cell_type": "code",
      "execution_count": null,
      "id": "0cf48dab",
      "metadata": {
        "id": "0cf48dab",
        "outputId": "62b4389d-faca-476f-bbce-532a34d7acac"
      },
      "outputs": [
        {
          "data": {
            "text/plain": [
              "(array([[0, 1, 4, 5, 9],\n",
              "        [0, 2, 6, 8, 9],\n",
              "        [2, 2, 3, 4, 8]]),\n",
              " array([[2, 0, 1, 4, 3],\n",
              "        [1, 3, 4, 0, 2],\n",
              "        [2, 4, 0, 3, 1]], dtype=int64))"
            ]
          },
          "execution_count": 57,
          "metadata": {},
          "output_type": "execute_result"
        }
      ],
      "source": [
        "np.sort(r),np.argsort(r)"
      ]
    },
    {
      "cell_type": "code",
      "execution_count": null,
      "id": "1f87fd85",
      "metadata": {
        "id": "1f87fd85",
        "outputId": "0e9af9fb-b770-4d8c-bec5-0912e7e8c417"
      },
      "outputs": [
        {
          "data": {
            "text/plain": [
              "(array([2, 1, 2], dtype=int64), array([1, 2, 1, 0, 1], dtype=int64))"
            ]
          },
          "execution_count": 58,
          "metadata": {},
          "output_type": "execute_result"
        }
      ],
      "source": [
        "np.argmin(r,axis=1),np.argmax(r,axis=0)"
      ]
    },
    {
      "cell_type": "code",
      "execution_count": null,
      "id": "a6164493",
      "metadata": {
        "scrolled": true,
        "id": "a6164493",
        "outputId": "e8908db7-8315-411c-e6a5-138d2b9cc4d2"
      },
      "outputs": [
        {
          "data": {
            "text/plain": [
              "2022-01-01    0.496714\n",
              "2022-01-02   -0.138264\n",
              "2022-01-03    0.647689\n",
              "2022-01-04    1.523030\n",
              "2022-01-05   -0.234153\n",
              "2022-01-06   -0.234137\n",
              "2022-01-07    1.579213\n",
              "2022-01-08    0.767435\n",
              "2022-01-09   -0.469474\n",
              "2022-01-10    0.542560\n",
              "Freq: D, dtype: float64"
            ]
          },
          "execution_count": 150,
          "metadata": {},
          "output_type": "execute_result"
        }
      ],
      "source": [
        "np.random.seed(42)\n",
        "ts = pd.Series(np.random.randn(10),index=pd.date_range('1/1/2022',periods=10))\n",
        "ts"
      ]
    },
    {
      "cell_type": "code",
      "execution_count": null,
      "id": "700d88ce",
      "metadata": {
        "id": "700d88ce",
        "outputId": "091adbc7-a675-40a5-a809-e9e499d55b5c"
      },
      "outputs": [
        {
          "data": {
            "text/plain": [
              "(array([[0.18182497, 0.18340451, 0.30424224],\n",
              "        [0.52475643, 0.43194502, 0.29122914]]),\n",
              " array([0.61185289, 0.13949386]),\n",
              " array([[-0.90802408, -1.4123037 ,  1.46564877],\n",
              "        [-0.2257763 ,  0.0675282 , -1.42474819]]),\n",
              " array([-4.        , -3.11111111, -2.22222222, -1.33333333, -0.44444444,\n",
              "         0.44444444,  1.33333333,  2.22222222,  3.11111111,  4.        ]),\n",
              " array([9, 3, 5, 3, 7]))"
            ]
          },
          "execution_count": 152,
          "metadata": {},
          "output_type": "execute_result"
        }
      ],
      "source": [
        "a = np.random.rand(2,3) # scaled value bt 0-1 and of shape 2,3\n",
        "b= np.random.random(2) # bt 0-1 but in 1D, no shape\n",
        "c = np.random.randn(2,3) # sclaed bt -1---+1 and of given shape\n",
        "d = np.linspace(-4,4,10)\n",
        "e = np.random.randint(1,10,5)\n",
        "a,b,c,d,e"
      ]
    },
    {
      "cell_type": "code",
      "execution_count": null,
      "id": "a45d688c",
      "metadata": {
        "id": "a45d688c"
      },
      "outputs": [],
      "source": []
    }
  ],
  "metadata": {
    "kernelspec": {
      "display_name": "Python 3 (ipykernel)",
      "language": "python",
      "name": "python3"
    },
    "language_info": {
      "codemirror_mode": {
        "name": "ipython",
        "version": 3
      },
      "file_extension": ".py",
      "mimetype": "text/x-python",
      "name": "python",
      "nbconvert_exporter": "python",
      "pygments_lexer": "ipython3",
      "version": "3.9.7"
    },
    "colab": {
      "provenance": [],
      "include_colab_link": true
    }
  },
  "nbformat": 4,
  "nbformat_minor": 5
}
