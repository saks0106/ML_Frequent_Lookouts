{
  "cells": [
    {
      "cell_type": "markdown",
      "metadata": {
        "id": "view-in-github",
        "colab_type": "text"
      },
      "source": [
        "<a href=\"https://colab.research.google.com/github/saks0106/Frequent-Lookouts/blob/main/minibatch_gd.ipynb\" target=\"_parent\"><img src=\"https://colab.research.google.com/assets/colab-badge.svg\" alt=\"Open In Colab\"/></a>"
      ]
    },
    {
      "cell_type": "code",
      "execution_count": 1,
      "id": "e1d1b3f6",
      "metadata": {
        "id": "e1d1b3f6"
      },
      "outputs": [],
      "source": [
        "from sklearn.datasets import load_diabetes\n",
        "\n",
        "import numpy as np\n",
        "from sklearn.linear_model import LinearRegression\n",
        "from sklearn.metrics import r2_score\n",
        "from sklearn.model_selection import train_test_split"
      ]
    },
    {
      "cell_type": "code",
      "execution_count": 2,
      "id": "84500f46",
      "metadata": {
        "id": "84500f46"
      },
      "outputs": [],
      "source": [
        "X,y = load_diabetes(return_X_y=True)"
      ]
    },
    {
      "cell_type": "code",
      "source": [
        "X"
      ],
      "metadata": {
        "colab": {
          "base_uri": "https://localhost:8080/"
        },
        "id": "J_rD0727sl8M",
        "outputId": "84ff478e-5d4b-4b06-f0df-421853f2de50"
      },
      "id": "J_rD0727sl8M",
      "execution_count": 8,
      "outputs": [
        {
          "output_type": "execute_result",
          "data": {
            "text/plain": [
              "array([[ 0.03807591,  0.05068012,  0.06169621, ..., -0.00259226,\n",
              "         0.01990749, -0.01764613],\n",
              "       [-0.00188202, -0.04464164, -0.05147406, ..., -0.03949338,\n",
              "        -0.06833155, -0.09220405],\n",
              "       [ 0.08529891,  0.05068012,  0.04445121, ..., -0.00259226,\n",
              "         0.00286131, -0.02593034],\n",
              "       ...,\n",
              "       [ 0.04170844,  0.05068012, -0.01590626, ..., -0.01107952,\n",
              "        -0.04688253,  0.01549073],\n",
              "       [-0.04547248, -0.04464164,  0.03906215, ...,  0.02655962,\n",
              "         0.04452873, -0.02593034],\n",
              "       [-0.04547248, -0.04464164, -0.0730303 , ..., -0.03949338,\n",
              "        -0.00422151,  0.00306441]])"
            ]
          },
          "metadata": {},
          "execution_count": 8
        }
      ]
    },
    {
      "cell_type": "code",
      "source": [],
      "metadata": {
        "id": "CLXmx1aksuxW"
      },
      "id": "CLXmx1aksuxW",
      "execution_count": null,
      "outputs": []
    },
    {
      "cell_type": "code",
      "execution_count": 3,
      "id": "5ef471cc",
      "metadata": {
        "colab": {
          "base_uri": "https://localhost:8080/"
        },
        "id": "5ef471cc",
        "outputId": "7c034178-bd0a-4f60-c3cd-0ff795e239a0"
      },
      "outputs": [
        {
          "output_type": "stream",
          "name": "stdout",
          "text": [
            "(442, 10)\n",
            "(442,)\n"
          ]
        }
      ],
      "source": [
        "print(X.shape)\n",
        "print(y.shape)"
      ]
    },
    {
      "cell_type": "code",
      "execution_count": 4,
      "id": "01ebedbc",
      "metadata": {
        "id": "01ebedbc"
      },
      "outputs": [],
      "source": [
        "X_train,X_test,y_train,y_test = train_test_split(X,y,test_size=0.2,random_state=2)"
      ]
    },
    {
      "cell_type": "code",
      "execution_count": 5,
      "id": "3ab37e5e",
      "metadata": {
        "colab": {
          "base_uri": "https://localhost:8080/",
          "height": 75
        },
        "id": "3ab37e5e",
        "outputId": "c0f39fb3-54b0-4ab1-b9e2-36e3ebf06fe7"
      },
      "outputs": [
        {
          "output_type": "execute_result",
          "data": {
            "text/plain": [
              "LinearRegression()"
            ],
            "text/html": [
              "<style>#sk-container-id-1 {color: black;background-color: white;}#sk-container-id-1 pre{padding: 0;}#sk-container-id-1 div.sk-toggleable {background-color: white;}#sk-container-id-1 label.sk-toggleable__label {cursor: pointer;display: block;width: 100%;margin-bottom: 0;padding: 0.3em;box-sizing: border-box;text-align: center;}#sk-container-id-1 label.sk-toggleable__label-arrow:before {content: \"▸\";float: left;margin-right: 0.25em;color: #696969;}#sk-container-id-1 label.sk-toggleable__label-arrow:hover:before {color: black;}#sk-container-id-1 div.sk-estimator:hover label.sk-toggleable__label-arrow:before {color: black;}#sk-container-id-1 div.sk-toggleable__content {max-height: 0;max-width: 0;overflow: hidden;text-align: left;background-color: #f0f8ff;}#sk-container-id-1 div.sk-toggleable__content pre {margin: 0.2em;color: black;border-radius: 0.25em;background-color: #f0f8ff;}#sk-container-id-1 input.sk-toggleable__control:checked~div.sk-toggleable__content {max-height: 200px;max-width: 100%;overflow: auto;}#sk-container-id-1 input.sk-toggleable__control:checked~label.sk-toggleable__label-arrow:before {content: \"▾\";}#sk-container-id-1 div.sk-estimator input.sk-toggleable__control:checked~label.sk-toggleable__label {background-color: #d4ebff;}#sk-container-id-1 div.sk-label input.sk-toggleable__control:checked~label.sk-toggleable__label {background-color: #d4ebff;}#sk-container-id-1 input.sk-hidden--visually {border: 0;clip: rect(1px 1px 1px 1px);clip: rect(1px, 1px, 1px, 1px);height: 1px;margin: -1px;overflow: hidden;padding: 0;position: absolute;width: 1px;}#sk-container-id-1 div.sk-estimator {font-family: monospace;background-color: #f0f8ff;border: 1px dotted black;border-radius: 0.25em;box-sizing: border-box;margin-bottom: 0.5em;}#sk-container-id-1 div.sk-estimator:hover {background-color: #d4ebff;}#sk-container-id-1 div.sk-parallel-item::after {content: \"\";width: 100%;border-bottom: 1px solid gray;flex-grow: 1;}#sk-container-id-1 div.sk-label:hover label.sk-toggleable__label {background-color: #d4ebff;}#sk-container-id-1 div.sk-serial::before {content: \"\";position: absolute;border-left: 1px solid gray;box-sizing: border-box;top: 0;bottom: 0;left: 50%;z-index: 0;}#sk-container-id-1 div.sk-serial {display: flex;flex-direction: column;align-items: center;background-color: white;padding-right: 0.2em;padding-left: 0.2em;position: relative;}#sk-container-id-1 div.sk-item {position: relative;z-index: 1;}#sk-container-id-1 div.sk-parallel {display: flex;align-items: stretch;justify-content: center;background-color: white;position: relative;}#sk-container-id-1 div.sk-item::before, #sk-container-id-1 div.sk-parallel-item::before {content: \"\";position: absolute;border-left: 1px solid gray;box-sizing: border-box;top: 0;bottom: 0;left: 50%;z-index: -1;}#sk-container-id-1 div.sk-parallel-item {display: flex;flex-direction: column;z-index: 1;position: relative;background-color: white;}#sk-container-id-1 div.sk-parallel-item:first-child::after {align-self: flex-end;width: 50%;}#sk-container-id-1 div.sk-parallel-item:last-child::after {align-self: flex-start;width: 50%;}#sk-container-id-1 div.sk-parallel-item:only-child::after {width: 0;}#sk-container-id-1 div.sk-dashed-wrapped {border: 1px dashed gray;margin: 0 0.4em 0.5em 0.4em;box-sizing: border-box;padding-bottom: 0.4em;background-color: white;}#sk-container-id-1 div.sk-label label {font-family: monospace;font-weight: bold;display: inline-block;line-height: 1.2em;}#sk-container-id-1 div.sk-label-container {text-align: center;}#sk-container-id-1 div.sk-container {/* jupyter's `normalize.less` sets `[hidden] { display: none; }` but bootstrap.min.css set `[hidden] { display: none !important; }` so we also need the `!important` here to be able to override the default hidden behavior on the sphinx rendered scikit-learn.org. See: https://github.com/scikit-learn/scikit-learn/issues/21755 */display: inline-block !important;position: relative;}#sk-container-id-1 div.sk-text-repr-fallback {display: none;}</style><div id=\"sk-container-id-1\" class=\"sk-top-container\"><div class=\"sk-text-repr-fallback\"><pre>LinearRegression()</pre><b>In a Jupyter environment, please rerun this cell to show the HTML representation or trust the notebook. <br />On GitHub, the HTML representation is unable to render, please try loading this page with nbviewer.org.</b></div><div class=\"sk-container\" hidden><div class=\"sk-item\"><div class=\"sk-estimator sk-toggleable\"><input class=\"sk-toggleable__control sk-hidden--visually\" id=\"sk-estimator-id-1\" type=\"checkbox\" checked><label for=\"sk-estimator-id-1\" class=\"sk-toggleable__label sk-toggleable__label-arrow\">LinearRegression</label><div class=\"sk-toggleable__content\"><pre>LinearRegression()</pre></div></div></div></div></div>"
            ]
          },
          "metadata": {},
          "execution_count": 5
        }
      ],
      "source": [
        "reg = LinearRegression()\n",
        "reg.fit(X_train,y_train)"
      ]
    },
    {
      "cell_type": "code",
      "execution_count": 6,
      "id": "b0460e00",
      "metadata": {
        "colab": {
          "base_uri": "https://localhost:8080/"
        },
        "id": "b0460e00",
        "outputId": "2512b86e-09da-428a-cb9e-0bef2c5f47e9"
      },
      "outputs": [
        {
          "output_type": "stream",
          "name": "stdout",
          "text": [
            "[  -9.15865318 -205.45432163  516.69374454  340.61999905 -895.5520019\n",
            "  561.22067904  153.89310954  126.73139688  861.12700152   52.42112238]\n",
            "151.88331005254167\n"
          ]
        }
      ],
      "source": [
        "print(reg.coef_)\n",
        "print(reg.intercept_)"
      ]
    },
    {
      "cell_type": "code",
      "execution_count": 7,
      "id": "5c4104dd",
      "metadata": {
        "colab": {
          "base_uri": "https://localhost:8080/"
        },
        "id": "5c4104dd",
        "outputId": "947806ef-7fc7-4fcf-9818-30c3b0dae174"
      },
      "outputs": [
        {
          "output_type": "execute_result",
          "data": {
            "text/plain": [
              "0.4399338661568968"
            ]
          },
          "metadata": {},
          "execution_count": 7
        }
      ],
      "source": [
        "y_pred = reg.predict(X_test)\n",
        "r2_score(y_test,y_pred)"
      ]
    },
    {
      "cell_type": "code",
      "source": [
        "X_train[[0,1,2]]"
      ],
      "metadata": {
        "colab": {
          "base_uri": "https://localhost:8080/"
        },
        "id": "xjiCaF9Ls664",
        "outputId": "d4c0a295-073a-4b5f-e22f-0ea924c5ccba"
      },
      "id": "xjiCaF9Ls664",
      "execution_count": 11,
      "outputs": [
        {
          "output_type": "execute_result",
          "data": {
            "text/plain": [
              "array([[-0.00188202, -0.04464164, -0.06979687, -0.01255612, -0.00019301,\n",
              "        -0.00914259,  0.07072993, -0.03949338, -0.06291688,  0.04034337],\n",
              "       [-0.00914709, -0.04464164,  0.01103904, -0.05731319, -0.02496016,\n",
              "        -0.04296262,  0.03023191, -0.03949338,  0.01703607, -0.0052198 ],\n",
              "       [ 0.02354575,  0.05068012, -0.02021751, -0.03665608, -0.01395254,\n",
              "        -0.01509241,  0.05968501, -0.03949338, -0.09643495, -0.01764613]])"
            ]
          },
          "metadata": {},
          "execution_count": 11
        }
      ]
    },
    {
      "cell_type": "code",
      "source": [
        "X_train[0]"
      ],
      "metadata": {
        "colab": {
          "base_uri": "https://localhost:8080/"
        },
        "id": "gPPNoV6EtI6_",
        "outputId": "8e26bc50-fb6d-4f0f-e737-318bcd1e2473"
      },
      "id": "gPPNoV6EtI6_",
      "execution_count": 12,
      "outputs": [
        {
          "output_type": "execute_result",
          "data": {
            "text/plain": [
              "array([-0.00188202, -0.04464164, -0.06979687, -0.01255612, -0.00019301,\n",
              "       -0.00914259,  0.07072993, -0.03949338, -0.06291688,  0.04034337])"
            ]
          },
          "metadata": {},
          "execution_count": 12
        }
      ]
    },
    {
      "cell_type": "code",
      "source": [
        "import random\n",
        "random.sample(range(X_train.shape[0]),10)"
      ],
      "metadata": {
        "colab": {
          "base_uri": "https://localhost:8080/"
        },
        "id": "bZCD4QzhtdQZ",
        "outputId": "e3910536-291f-4a24-8275-552872394905"
      },
      "id": "bZCD4QzhtdQZ",
      "execution_count": 14,
      "outputs": [
        {
          "output_type": "execute_result",
          "data": {
            "text/plain": [
              "[225, 78, 352, 219, 110, 43, 284, 157, 297, 46]"
            ]
          },
          "metadata": {},
          "execution_count": 14
        }
      ]
    },
    {
      "cell_type": "code",
      "source": [
        "X_train.shape[0]"
      ],
      "metadata": {
        "colab": {
          "base_uri": "https://localhost:8080/"
        },
        "id": "kC41W4WztrC4",
        "outputId": "2842c5cc-4b36-45dd-f808-c1eb4fed9231"
      },
      "id": "kC41W4WztrC4",
      "execution_count": 15,
      "outputs": [
        {
          "output_type": "execute_result",
          "data": {
            "text/plain": [
              "353"
            ]
          },
          "metadata": {},
          "execution_count": 15
        }
      ]
    },
    {
      "cell_type": "code",
      "source": [
        "X_train[random.sample(range(X_train.shape[0]),10)]"
      ],
      "metadata": {
        "colab": {
          "base_uri": "https://localhost:8080/"
        },
        "id": "af5zaTE-t8HL",
        "outputId": "f7314e07-4c48-4385-9619-a587de2e22df"
      },
      "id": "af5zaTE-t8HL",
      "execution_count": 16,
      "outputs": [
        {
          "output_type": "execute_result",
          "data": {
            "text/plain": [
              "array([[-0.07453279,  0.05068012, -0.00943939,  0.01498668, -0.03734373,\n",
              "        -0.02166853, -0.01394774, -0.00259226, -0.03324559,  0.01134862],\n",
              "       [-0.02367725, -0.04464164, -0.046085  , -0.03321323,  0.03282986,\n",
              "         0.03626394,  0.03759519, -0.00259226, -0.03324559,  0.01134862],\n",
              "       [-0.04547248,  0.05068012, -0.04716281, -0.01599898, -0.04009564,\n",
              "        -0.02480001,  0.00077881, -0.03949338, -0.06291688, -0.03835666],\n",
              "       [ 0.02717829,  0.05068012,  0.09403057,  0.09761511, -0.03459183,\n",
              "        -0.03200243, -0.04340085, -0.00259226,  0.03664373,  0.10661708],\n",
              "       [-0.02367725, -0.04464164,  0.04013997, -0.01255612, -0.00982468,\n",
              "        -0.00100073, -0.00290283, -0.00259226, -0.01189685, -0.03835666],\n",
              "       [ 0.02354575,  0.05068012, -0.03207344, -0.04009893, -0.03183992,\n",
              "        -0.02166853, -0.01394774, -0.00259226, -0.01090325,  0.01963284],\n",
              "       [-0.02730979, -0.04464164, -0.06009656, -0.02977038,  0.04658939,\n",
              "         0.01998022,  0.12227286, -0.03949338, -0.05140387, -0.00936191],\n",
              "       [ 0.06713621, -0.04464164,  0.03690653, -0.05042748, -0.02358421,\n",
              "        -0.03450761,  0.0486401 , -0.03949338, -0.02595311, -0.03835666],\n",
              "       [-0.00914709, -0.04464164,  0.03798434, -0.04009893, -0.02496016,\n",
              "        -0.00381907, -0.04340085,  0.0158583 , -0.00514219,  0.02791705],\n",
              "       [-0.02730979, -0.04464164, -0.06656343, -0.1123988 , -0.04972731,\n",
              "        -0.04139688,  0.00077881, -0.03949338, -0.03581619, -0.00936191]])"
            ]
          },
          "metadata": {},
          "execution_count": 16
        }
      ]
    },
    {
      "cell_type": "code",
      "execution_count": 17,
      "id": "4d92f6d3",
      "metadata": {
        "id": "4d92f6d3"
      },
      "outputs": [],
      "source": [
        "import random\n",
        "\n",
        "class MBGDRegressor:\n",
        "    \n",
        "    def __init__(self,batch_size,learning_rate=0.01,epochs=100):\n",
        "        \n",
        "        self.coef_ = None\n",
        "        self.intercept_ = None\n",
        "        self.lr = learning_rate\n",
        "        self.epochs = epochs\n",
        "        self.batch_size = batch_size\n",
        "        \n",
        "    def fit(self,X_train,y_train):\n",
        "        # init your coefs\n",
        "        self.intercept_ = 0\n",
        "        self.coef_ = np.ones(X_train.shape[1])\n",
        "        \n",
        "        for i in range(self.epochs):\n",
        "            \n",
        "            for j in range(int(X_train.shape[0]/self.batch_size)):\n",
        "                \n",
        "                idx = random.sample(range(X_train.shape[0]),self.batch_size) \n",
        "                \n",
        "                y_hat = np.dot(X_train[idx],self.coef_) + self.intercept_\n",
        "                #print(\"Shape of y_hat\",y_hat.shape)\n",
        "                intercept_der = -2 * np.mean(y_train[idx] - y_hat)\n",
        "                self.intercept_ = self.intercept_ - (self.lr * intercept_der)\n",
        "\n",
        "                coef_der = -2 * np.dot((y_train[idx] - y_hat),X_train[idx])\n",
        "                self.coef_ = self.coef_ - (self.lr * coef_der)\n",
        "        \n",
        "        print(self.intercept_,self.coef_)\n",
        "    \n",
        "    def predict(self,X_test):\n",
        "        return np.dot(X_test,self.coef_) + self.intercept_"
      ]
    },
    {
      "cell_type": "code",
      "execution_count": 18,
      "id": "99078906",
      "metadata": {
        "id": "99078906"
      },
      "outputs": [],
      "source": [
        "mbr = MBGDRegressor(batch_size=int(X_train.shape[0]/50),learning_rate=0.01,epochs=100)"
      ]
    },
    {
      "cell_type": "code",
      "execution_count": 19,
      "id": "dc4e8574",
      "metadata": {
        "colab": {
          "base_uri": "https://localhost:8080/"
        },
        "id": "dc4e8574",
        "outputId": "d3111db5-af7b-4039-b152-7d5bd304f1c8"
      },
      "outputs": [
        {
          "output_type": "stream",
          "name": "stdout",
          "text": [
            "149.01323877510703 [  27.86634651 -152.27111155  445.86024556  303.60230782  -26.17498403\n",
            "  -91.15957209 -197.0298968   115.80484832  404.9548669   115.83036837]\n"
          ]
        }
      ],
      "source": [
        "mbr.fit(X_train,y_train)"
      ]
    },
    {
      "cell_type": "code",
      "execution_count": 20,
      "id": "d32d9fef",
      "metadata": {
        "id": "d32d9fef"
      },
      "outputs": [],
      "source": [
        "y_pred = mbr.predict(X_test)"
      ]
    },
    {
      "cell_type": "code",
      "execution_count": 21,
      "id": "905a915d",
      "metadata": {
        "colab": {
          "base_uri": "https://localhost:8080/"
        },
        "id": "905a915d",
        "outputId": "5bc95faf-1841-4181-e47a-9ce76f709a2b"
      },
      "outputs": [
        {
          "output_type": "execute_result",
          "data": {
            "text/plain": [
              "0.4537575200773363"
            ]
          },
          "metadata": {},
          "execution_count": 21
        }
      ],
      "source": [
        "r2_score(y_test,y_pred)"
      ]
    },
    {
      "cell_type": "code",
      "execution_count": 22,
      "id": "a48ecad9",
      "metadata": {
        "id": "a48ecad9"
      },
      "outputs": [],
      "source": [
        "#we don't have mini batch option in SGDRegressor, so we make some tweaks which are below\n",
        "from sklearn.linear_model import SGDRegressor"
      ]
    },
    {
      "cell_type": "code",
      "execution_count": 23,
      "id": "cc4d285f",
      "metadata": {
        "id": "cc4d285f"
      },
      "outputs": [],
      "source": [
        "sgd = SGDRegressor(learning_rate='constant',eta0=0.1)"
      ]
    },
    {
      "cell_type": "code",
      "execution_count": 24,
      "id": "23b8a8be",
      "metadata": {
        "id": "23b8a8be"
      },
      "outputs": [],
      "source": [
        "batch_size = 35\n",
        "\n",
        "for i in range(100): #100 epochs\n",
        "    \n",
        "    idx = random.sample(range(X_train.shape[0]),batch_size) #35 random values\n",
        "    sgd.partial_fit(X_train[idx],y_train[idx]) # only random 35 values sent to training"
      ]
    },
    {
      "cell_type": "code",
      "execution_count": 25,
      "id": "9827c50a",
      "metadata": {
        "colab": {
          "base_uri": "https://localhost:8080/"
        },
        "id": "9827c50a",
        "outputId": "2b148ef2-ad18-46b0-a491-7c578aecea24"
      },
      "outputs": [
        {
          "output_type": "execute_result",
          "data": {
            "text/plain": [
              "array([  55.33142224,  -70.29512252,  359.28541236,  250.07623338,\n",
              "         22.28742744,  -16.23736837, -174.02541135,  126.46669249,\n",
              "        306.62534664,  142.04957834])"
            ]
          },
          "metadata": {},
          "execution_count": 25
        }
      ],
      "source": [
        "sgd.coef_"
      ]
    },
    {
      "cell_type": "code",
      "execution_count": 26,
      "id": "bf5ae439",
      "metadata": {
        "colab": {
          "base_uri": "https://localhost:8080/"
        },
        "id": "bf5ae439",
        "outputId": "c3db192e-ee29-4932-d1c7-26e57012aa11"
      },
      "outputs": [
        {
          "output_type": "execute_result",
          "data": {
            "text/plain": [
              "array([155.43479301])"
            ]
          },
          "metadata": {},
          "execution_count": 26
        }
      ],
      "source": [
        "sgd.intercept_"
      ]
    },
    {
      "cell_type": "code",
      "execution_count": 27,
      "id": "df9c2619",
      "metadata": {
        "id": "df9c2619"
      },
      "outputs": [],
      "source": [
        "y_pred = sgd.predict(X_test)"
      ]
    },
    {
      "cell_type": "code",
      "execution_count": 28,
      "id": "ab5ea374",
      "metadata": {
        "colab": {
          "base_uri": "https://localhost:8080/"
        },
        "id": "ab5ea374",
        "outputId": "4f8d6fd2-b1f5-450d-f423-45d0f9eaed18"
      },
      "outputs": [
        {
          "output_type": "execute_result",
          "data": {
            "text/plain": [
              "0.43240543039747936"
            ]
          },
          "metadata": {},
          "execution_count": 28
        }
      ],
      "source": [
        "r2_score(y_test,y_pred)"
      ]
    },
    {
      "cell_type": "code",
      "execution_count": null,
      "id": "8b8d5010",
      "metadata": {
        "id": "8b8d5010"
      },
      "outputs": [],
      "source": []
    },
    {
      "cell_type": "code",
      "execution_count": null,
      "id": "d213087b",
      "metadata": {
        "id": "d213087b"
      },
      "outputs": [],
      "source": []
    }
  ],
  "metadata": {
    "kernelspec": {
      "display_name": "Python 3",
      "language": "python",
      "name": "python3"
    },
    "language_info": {
      "codemirror_mode": {
        "name": "ipython",
        "version": 3
      },
      "file_extension": ".py",
      "mimetype": "text/x-python",
      "name": "python",
      "nbconvert_exporter": "python",
      "pygments_lexer": "ipython3",
      "version": "3.8.8"
    },
    "colab": {
      "provenance": [],
      "include_colab_link": true
    }
  },
  "nbformat": 4,
  "nbformat_minor": 5
}
