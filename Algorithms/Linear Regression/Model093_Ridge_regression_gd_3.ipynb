{
  "cells": [
    {
      "cell_type": "markdown",
      "metadata": {
        "id": "view-in-github",
        "colab_type": "text"
      },
      "source": [
        "<a href=\"https://colab.research.google.com/github/saks0106/Frequent-Lookouts/blob/main/ridge_regression_gd_3.ipynb\" target=\"_parent\"><img src=\"https://colab.research.google.com/assets/colab-badge.svg\" alt=\"Open In Colab\"/></a>"
      ]
    },
    {
      "cell_type": "code",
      "execution_count": 1,
      "id": "0a64ff79",
      "metadata": {
        "id": "0a64ff79"
      },
      "outputs": [],
      "source": [
        "from sklearn.datasets import load_diabetes\n",
        "from sklearn.metrics import r2_score\n",
        "import numpy as np"
      ]
    },
    {
      "cell_type": "code",
      "execution_count": 2,
      "id": "f5d0adc9",
      "metadata": {
        "id": "f5d0adc9"
      },
      "outputs": [],
      "source": [
        "X,y = load_diabetes(return_X_y=True)"
      ]
    },
    {
      "cell_type": "code",
      "execution_count": 3,
      "id": "877a6fcc",
      "metadata": {
        "id": "877a6fcc"
      },
      "outputs": [],
      "source": [
        "from sklearn.model_selection import train_test_split"
      ]
    },
    {
      "cell_type": "code",
      "execution_count": 4,
      "id": "f356594b",
      "metadata": {
        "id": "f356594b"
      },
      "outputs": [],
      "source": [
        "X_train,X_test,y_train,y_test = train_test_split(X,y,test_size=0.2,random_state=4)"
      ]
    },
    {
      "cell_type": "code",
      "execution_count": 5,
      "id": "7353416f",
      "metadata": {
        "id": "7353416f"
      },
      "outputs": [],
      "source": [
        "from sklearn.linear_model import SGDRegressor"
      ]
    },
    {
      "cell_type": "code",
      "execution_count": 6,
      "id": "dd9147db",
      "metadata": {
        "id": "dd9147db"
      },
      "outputs": [],
      "source": [
        "reg = SGDRegressor(penalty='l2',max_iter=500,eta0=0.1,learning_rate='constant',alpha=0.001)"
      ]
    },
    {
      "cell_type": "code",
      "execution_count": 7,
      "id": "bc87d135",
      "metadata": {
        "colab": {
          "base_uri": "https://localhost:8080/"
        },
        "id": "bc87d135",
        "outputId": "7b335147-540e-45c2-c0fd-5c3236ec3eea"
      },
      "outputs": [
        {
          "output_type": "stream",
          "name": "stdout",
          "text": [
            "R2 score 0.4507265173355184\n",
            "[  46.84826288 -155.05160313  368.96983635  271.07574165   -6.01337094\n",
            "  -61.68195803 -165.55664046  135.16115496  331.63835682  101.28800861]\n",
            "[164.13510698]\n"
          ]
        }
      ],
      "source": [
        "reg.fit(X_train,y_train)\n",
        "\n",
        "y_pred = reg.predict(X_test)\n",
        "print(\"R2 score\",r2_score(y_test,y_pred))\n",
        "print(reg.coef_)\n",
        "print(reg.intercept_)"
      ]
    },
    {
      "cell_type": "code",
      "execution_count": 9,
      "id": "d9b329c6",
      "metadata": {
        "id": "d9b329c6"
      },
      "outputs": [],
      "source": [
        "from sklearn.linear_model import Ridge\n",
        "\n",
        "reg = Ridge(alpha=0.001, max_iter=500,solver='sparse_cg')\n",
        "# solver --> svd,cholesky,lsqr use ols and sparse_cg, sag,saga use gradient descent"
      ]
    },
    {
      "cell_type": "code",
      "execution_count": 10,
      "id": "67492f20",
      "metadata": {
        "colab": {
          "base_uri": "https://localhost:8080/"
        },
        "id": "67492f20",
        "outputId": "2ce0bdd4-b431-4a68-f39f-cea5e74f456c"
      },
      "outputs": [
        {
          "output_type": "stream",
          "name": "stdout",
          "text": [
            "R2 score 0.46250101619914563\n",
            "[  34.52192544 -290.84084076  482.40181344  368.0678662  -852.44873179\n",
            "  501.59160336  180.11115788  270.76333979  759.73534372   37.4913546 ]\n",
            "151.10198517439466\n"
          ]
        }
      ],
      "source": [
        "reg.fit(X_train,y_train)\n",
        "\n",
        "y_pred = reg.predict(X_test)\n",
        "print(\"R2 score\",r2_score(y_test,y_pred))\n",
        "print(reg.coef_)\n",
        "print(reg.intercept_)"
      ]
    },
    {
      "cell_type": "code",
      "execution_count": 11,
      "id": "9c215108",
      "metadata": {
        "id": "9c215108"
      },
      "outputs": [],
      "source": [
        "class MeraRidgeGD:\n",
        "    \n",
        "    def __init__(self,epochs,learning_rate,alpha):\n",
        "        \n",
        "        self.learning_rate = learning_rate\n",
        "        self.epochs = epochs\n",
        "        self.alpha = alpha\n",
        "        self.coef_ = None\n",
        "        self.intercept_ = None\n",
        "        \n",
        "    def fit(self,X_train,y_train):\n",
        "        \n",
        "        self.coef_ = np.ones(X_train.shape[1])\n",
        "        self.intercept_ = 0\n",
        "        thetha = np.insert(self.coef_,0,self.intercept_)\n",
        "        \n",
        "        X_train = np.insert(X_train,0,1,axis=1)\n",
        "        \n",
        "        for i in range(self.epochs):\n",
        "            thetha_der = np.dot(X_train.T,X_train).dot(thetha) - np.dot(X_train.T,y_train) + self.alpha*thetha\n",
        "            thetha = thetha - self.learning_rate*thetha_der\n",
        "        \n",
        "        self.coef_ = thetha[1:]\n",
        "        self.intercept_ = thetha[0]\n",
        "    \n",
        "    def predict(self,X_test):\n",
        "        \n",
        "        return np.dot(X_test,self.coef_) + self.intercept_"
      ]
    },
    {
      "cell_type": "code",
      "execution_count": 12,
      "id": "12040494",
      "metadata": {
        "id": "12040494"
      },
      "outputs": [],
      "source": [
        "reg = MeraRidgeGD(epochs=500,alpha=0.001,learning_rate=0.005)"
      ]
    },
    {
      "cell_type": "code",
      "execution_count": 13,
      "id": "cd5d4820",
      "metadata": {
        "colab": {
          "base_uri": "https://localhost:8080/"
        },
        "id": "cd5d4820",
        "outputId": "83824962-71ef-411b-d746-5e49f6aa4475"
      },
      "outputs": [
        {
          "output_type": "stream",
          "name": "stdout",
          "text": [
            "R2 score 0.4738018280260913\n",
            "[  46.65050914 -221.3750037   452.12080647  325.54248128  -29.09464178\n",
            "  -96.47517735 -190.90017011  146.32900372  400.80267299   95.09048094]\n",
            "150.86975316713472\n"
          ]
        }
      ],
      "source": [
        "reg.fit(X_train,y_train)\n",
        "\n",
        "y_pred = reg.predict(X_test)\n",
        "print(\"R2 score\",r2_score(y_test,y_pred))\n",
        "print(reg.coef_)\n",
        "print(reg.intercept_)"
      ]
    },
    {
      "cell_type": "code",
      "execution_count": null,
      "id": "629a5361",
      "metadata": {
        "id": "629a5361"
      },
      "outputs": [],
      "source": []
    }
  ],
  "metadata": {
    "kernelspec": {
      "display_name": "Python 3",
      "language": "python",
      "name": "python3"
    },
    "language_info": {
      "codemirror_mode": {
        "name": "ipython",
        "version": 3
      },
      "file_extension": ".py",
      "mimetype": "text/x-python",
      "name": "python",
      "nbconvert_exporter": "python",
      "pygments_lexer": "ipython3",
      "version": "3.8.8"
    },
    "colab": {
      "provenance": [],
      "include_colab_link": true
    }
  },
  "nbformat": 4,
  "nbformat_minor": 5
}
