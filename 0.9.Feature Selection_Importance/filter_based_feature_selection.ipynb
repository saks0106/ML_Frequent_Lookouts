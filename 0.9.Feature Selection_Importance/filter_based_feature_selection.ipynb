{
  "metadata": {
    "kernelspec": {
      "language": "python",
      "display_name": "Python 3",
      "name": "python3"
    },
    "language_info": {
      "pygments_lexer": "ipython3",
      "nbconvert_exporter": "python",
      "version": "3.6.4",
      "file_extension": ".py",
      "codemirror_mode": {
        "name": "ipython",
        "version": 3
      },
      "name": "python",
      "mimetype": "text/x-python"
    },
    "colab": {
      "provenance": []
    }
  },
  "nbformat_minor": 0,
  "nbformat": 4,
  "cells": [
    {
      "cell_type": "code",
      "source": [
        "# This Python 3 environment comes with many helpful analytics libraries installed\n",
        "# It is defined by the kaggle/python Docker image: https://github.com/kaggle/docker-python\n",
        "# For example, here's several helpful packages to load\n",
        "\n",
        "import numpy as np # linear algebra\n",
        "import pandas as pd # data processing, CSV file I/O (e.g. pd.read_csv)\n",
        "\n",
        "# Input data files are available in the read-only \"../input/\" directory\n",
        "# For example, running this (by clicking run or pressing Shift+Enter) will list all files under the input directory\n",
        "\n",
        "import os\n",
        "for dirname, _, filenames in os.walk('/kaggle/input'):\n",
        "    for filename in filenames:\n",
        "        print(os.path.join(dirname, filename))\n",
        "\n",
        "# You can write up to 20GB to the current directory (/kaggle/working/) that gets preserved as output when you create a version using \"Save & Run All\"\n",
        "# You can also write temporary files to /kaggle/temp/, but they won't be saved outside of the current session"
      ],
      "metadata": {
        "_uuid": "8f2839f25d086af736a60e9eeb907d3b93b6e0e5",
        "_cell_guid": "b1076dfc-b9ad-4769-8c92-a6c4dae69d19",
        "execution": {
          "iopub.status.busy": "2023-05-11T14:55:20.064065Z",
          "iopub.execute_input": "2023-05-11T14:55:20.064476Z",
          "iopub.status.idle": "2023-05-11T14:55:20.112495Z",
          "shell.execute_reply.started": "2023-05-11T14:55:20.064447Z",
          "shell.execute_reply": "2023-05-11T14:55:20.111245Z"
        },
        "trusted": true,
        "id": "WW8vnoLuujGh"
      },
      "execution_count": null,
      "outputs": []
    },
    {
      "cell_type": "code",
      "source": [
        "df = pd.read_csv('/kaggle/input/human-activity-recognition-with-smartphones/train.csv').drop(columns='subject')\n",
        "df.head()"
      ],
      "metadata": {
        "execution": {
          "iopub.status.busy": "2023-05-11T14:56:35.768244Z",
          "iopub.execute_input": "2023-05-11T14:56:35.768675Z",
          "iopub.status.idle": "2023-05-11T14:56:36.831733Z",
          "shell.execute_reply.started": "2023-05-11T14:56:35.768645Z",
          "shell.execute_reply": "2023-05-11T14:56:36.830682Z"
        },
        "trusted": true,
        "id": "9qMIYwU1ujGq"
      },
      "execution_count": null,
      "outputs": []
    },
    {
      "cell_type": "code",
      "source": [
        "df['Activity'].value_counts()"
      ],
      "metadata": {
        "execution": {
          "iopub.status.busy": "2023-05-11T14:56:54.385190Z",
          "iopub.execute_input": "2023-05-11T14:56:54.385513Z",
          "iopub.status.idle": "2023-05-11T14:56:54.402105Z",
          "shell.execute_reply.started": "2023-05-11T14:56:54.385487Z",
          "shell.execute_reply": "2023-05-11T14:56:54.400671Z"
        },
        "trusted": true,
        "id": "EkJASVSCujGr"
      },
      "execution_count": null,
      "outputs": []
    },
    {
      "cell_type": "code",
      "source": [
        "print(df.shape)"
      ],
      "metadata": {
        "execution": {
          "iopub.status.busy": "2023-05-11T12:14:18.356139Z",
          "iopub.execute_input": "2023-05-11T12:14:18.357136Z",
          "iopub.status.idle": "2023-05-11T12:14:18.364209Z",
          "shell.execute_reply.started": "2023-05-11T12:14:18.357012Z",
          "shell.execute_reply": "2023-05-11T12:14:18.362748Z"
        },
        "trusted": true,
        "id": "yiYCIYQqujGt"
      },
      "execution_count": null,
      "outputs": []
    },
    {
      "cell_type": "code",
      "source": [
        "from sklearn.preprocessing import LabelEncoder\n",
        "from sklearn.model_selection import train_test_split\n",
        "from sklearn.linear_model import LogisticRegression\n",
        "from sklearn.metrics import accuracy_score\n",
        "\n",
        "# Separate features and target\n",
        "X = df.drop('Activity', axis=1)\n",
        "y = df['Activity']\n",
        "\n",
        "# Encode target labels\n",
        "le = LabelEncoder()\n",
        "y = le.fit_transform(y)\n",
        "\n",
        "# Split data into training and testing sets\n",
        "X_train, X_test, y_train, y_test = train_test_split(X, y, test_size=0.2, random_state=42)"
      ],
      "metadata": {
        "execution": {
          "iopub.status.busy": "2023-05-11T15:01:21.990657Z",
          "iopub.execute_input": "2023-05-11T15:01:21.991082Z",
          "iopub.status.idle": "2023-05-11T15:01:22.710530Z",
          "shell.execute_reply.started": "2023-05-11T15:01:21.991054Z",
          "shell.execute_reply": "2023-05-11T15:01:22.709308Z"
        },
        "trusted": true,
        "id": "ebFIBjwRujGt"
      },
      "execution_count": null,
      "outputs": []
    },
    {
      "cell_type": "code",
      "source": [
        "print(X_train.shape)\n",
        "print(X_test.shape)"
      ],
      "metadata": {
        "execution": {
          "iopub.status.busy": "2023-05-11T15:01:33.196981Z",
          "iopub.execute_input": "2023-05-11T15:01:33.197408Z",
          "iopub.status.idle": "2023-05-11T15:01:33.203491Z",
          "shell.execute_reply.started": "2023-05-11T15:01:33.197376Z",
          "shell.execute_reply": "2023-05-11T15:01:33.202659Z"
        },
        "trusted": true,
        "id": "JS-bbw76ujGu"
      },
      "execution_count": null,
      "outputs": []
    },
    {
      "cell_type": "markdown",
      "source": [
        "### Applying Logistic Regression Before Feature Selection ie All Features"
      ],
      "metadata": {
        "id": "Kw9eKX6KujGv"
      }
    },
    {
      "cell_type": "code",
      "source": [
        "# Initialize and train logistic regression model\n",
        "log_reg = LogisticRegression(max_iter=1000)  # Increase max_iter if it doesn't converge\n",
        "log_reg.fit(X_train, y_train)\n",
        "\n",
        "# Make predictions on the test set\n",
        "y_pred = log_reg.predict(X_test)\n",
        "\n",
        "# Calculate and print accuracy score\n",
        "accuracy = accuracy_score(y_test, y_pred)\n",
        "print(\"Test accuracy:\", accuracy)"
      ],
      "metadata": {
        "execution": {
          "iopub.status.busy": "2023-05-11T15:02:09.373753Z",
          "iopub.execute_input": "2023-05-11T15:02:09.374192Z",
          "iopub.status.idle": "2023-05-11T15:02:25.868495Z",
          "shell.execute_reply.started": "2023-05-11T15:02:09.374161Z",
          "shell.execute_reply": "2023-05-11T15:02:25.866963Z"
        },
        "trusted": true,
        "id": "hBr3p_PZujG1"
      },
      "execution_count": null,
      "outputs": []
    },
    {
      "cell_type": "markdown",
      "source": [
        "# Feature Selection\n",
        "\n",
        "### Always check for Duplicate Columns\n",
        "\n",
        "### 1. Removing Duplicate Columns\n",
        "\n",
        "---\n",
        "\n"
      ],
      "metadata": {
        "id": "A_eQlSYaujG3"
      }
    },
    {
      "cell_type": "code",
      "source": [
        "def get_duplicate_columns(df):\n",
        "  \"\"\"Comparing 2 columns for duplicate values\"\"\"\n",
        "\n",
        "    duplicate_columns = {}\n",
        "    seen_columns = {}\n",
        "\n",
        "    for column in df.columns:\n",
        "        current_column = df[column]\n",
        "\n",
        "        # Convert column data to bytes\n",
        "        try:\n",
        "            current_column_hash = current_column.values.tobytes()\n",
        "        except AttributeError:\n",
        "            current_column_hash = current_column.to_string().encode()\n",
        "\n",
        "        if current_column_hash in seen_columns:\n",
        "            if seen_columns[current_column_hash] in duplicate_columns:\n",
        "                duplicate_columns[seen_columns[current_column_hash]].append(column)\n",
        "            else:\n",
        "                duplicate_columns[seen_columns[current_column_hash]] = [column]\n",
        "        else:\n",
        "            seen_columns[current_column_hash] = column\n",
        "\n",
        "    return duplicate_columns\n"
      ],
      "metadata": {
        "execution": {
          "iopub.status.busy": "2023-05-11T15:03:56.078329Z",
          "iopub.execute_input": "2023-05-11T15:03:56.078795Z",
          "iopub.status.idle": "2023-05-11T15:03:56.087600Z",
          "shell.execute_reply.started": "2023-05-11T15:03:56.078757Z",
          "shell.execute_reply": "2023-05-11T15:03:56.086137Z"
        },
        "trusted": true,
        "id": "5bIX4blGujG6"
      },
      "execution_count": null,
      "outputs": []
    },
    {
      "cell_type": "code",
      "source": [
        "duplicate_columns = get_duplicate_columns(X_train)"
      ],
      "metadata": {
        "execution": {
          "iopub.status.busy": "2023-05-11T15:04:18.170558Z",
          "iopub.execute_input": "2023-05-11T15:04:18.171013Z",
          "iopub.status.idle": "2023-05-11T15:04:18.222063Z",
          "shell.execute_reply.started": "2023-05-11T15:04:18.170980Z",
          "shell.execute_reply": "2023-05-11T15:04:18.221178Z"
        },
        "trusted": true,
        "id": "dKaIFGmyujG7"
      },
      "execution_count": null,
      "outputs": []
    },
    {
      "cell_type": "code",
      "source": [
        "duplicate_columns #as dict where key is column and value is exact duplicate of key, so we will keep the key feature and drop value feature"
      ],
      "metadata": {
        "execution": {
          "iopub.status.busy": "2023-05-11T15:04:19.837531Z",
          "iopub.execute_input": "2023-05-11T15:04:19.837936Z",
          "iopub.status.idle": "2023-05-11T15:04:19.846865Z",
          "shell.execute_reply.started": "2023-05-11T15:04:19.837907Z",
          "shell.execute_reply": "2023-05-11T15:04:19.845475Z"
        },
        "trusted": true,
        "id": "uEPHXqMeujG7"
      },
      "execution_count": null,
      "outputs": []
    },
    {
      "cell_type": "code",
      "source": [
        "X_train[['tBodyAccMag-mean()','tBodyAccMag-sma()','tGravityAccMag-mean()','tGravityAccMag-sma()']]"
      ],
      "metadata": {
        "execution": {
          "iopub.status.busy": "2023-05-11T15:05:28.778415Z",
          "iopub.execute_input": "2023-05-11T15:05:28.779440Z",
          "iopub.status.idle": "2023-05-11T15:05:28.795596Z",
          "shell.execute_reply.started": "2023-05-11T15:05:28.779402Z",
          "shell.execute_reply": "2023-05-11T15:05:28.794307Z"
        },
        "trusted": true,
        "id": "c-c6CNY2ujG8"
      },
      "execution_count": null,
      "outputs": []
    },
    {
      "cell_type": "code",
      "source": [
        "for one_list in duplicate_columns.values(): #drop value from key:value that is actually duplicate\n",
        "    X_train.drop(columns=one_list,inplace=True)\n",
        "    X_test.drop(columns=one_list,inplace=True)"
      ],
      "metadata": {
        "execution": {
          "iopub.status.busy": "2023-05-11T15:06:25.272937Z",
          "iopub.execute_input": "2023-05-11T15:06:25.273338Z",
          "iopub.status.idle": "2023-05-11T15:06:25.454791Z",
          "shell.execute_reply.started": "2023-05-11T15:06:25.273309Z",
          "shell.execute_reply": "2023-05-11T15:06:25.453618Z"
        },
        "trusted": true,
        "id": "PxEjqUAyujG8"
      },
      "execution_count": null,
      "outputs": []
    },
    {
      "cell_type": "code",
      "source": [
        "print(X_train.shape)\n",
        "print(X_test.shape)"
      ],
      "metadata": {
        "execution": {
          "iopub.status.busy": "2023-05-11T15:06:27.372176Z",
          "iopub.execute_input": "2023-05-11T15:06:27.372554Z",
          "iopub.status.idle": "2023-05-11T15:06:27.378116Z",
          "shell.execute_reply.started": "2023-05-11T15:06:27.372527Z",
          "shell.execute_reply": "2023-05-11T15:06:27.376912Z"
        },
        "trusted": true,
        "id": "f-ts-Z89ujG8"
      },
      "execution_count": null,
      "outputs": []
    },
    {
      "cell_type": "markdown",
      "source": [
        "### 2. Variance Threshold\n",
        "\n",
        "before applying Varience Threshold, make sure Data is Scaled like Standardized or Normalized. Good Threshold value is is between 0.01 - 0.1"
      ],
      "metadata": {
        "id": "Qmr46SE9ujG9"
      }
    },
    {
      "cell_type": "code",
      "source": [
        "from sklearn.feature_selection import VarianceThreshold\n",
        "sel = VarianceThreshold(threshold=0.05)"
      ],
      "metadata": {
        "execution": {
          "iopub.status.busy": "2023-05-11T15:15:34.697504Z",
          "iopub.execute_input": "2023-05-11T15:15:34.697927Z",
          "iopub.status.idle": "2023-05-11T15:15:34.868321Z",
          "shell.execute_reply.started": "2023-05-11T15:15:34.697894Z",
          "shell.execute_reply": "2023-05-11T15:15:34.867177Z"
        },
        "trusted": true,
        "id": "j-A4JCnaujG-"
      },
      "execution_count": null,
      "outputs": []
    },
    {
      "cell_type": "code",
      "source": [
        "sel.fit(X_train) #variance is calculated and checked if variance is less then our threshld or not"
      ],
      "metadata": {
        "execution": {
          "iopub.status.busy": "2023-05-11T15:16:12.066923Z",
          "iopub.execute_input": "2023-05-11T15:16:12.067327Z",
          "iopub.status.idle": "2023-05-11T15:16:12.120978Z",
          "shell.execute_reply.started": "2023-05-11T15:16:12.067298Z",
          "shell.execute_reply": "2023-05-11T15:16:12.119762Z"
        },
        "trusted": true,
        "id": "DEVq97a-ujG_"
      },
      "execution_count": null,
      "outputs": []
    },
    {
      "cell_type": "code",
      "source": [
        "sum(sel.get_support()) #349 features are above threshold value so can be considered further"
      ],
      "metadata": {
        "execution": {
          "iopub.status.busy": "2023-05-11T15:16:49.356974Z",
          "iopub.execute_input": "2023-05-11T15:16:49.357390Z",
          "iopub.status.idle": "2023-05-11T15:16:49.365326Z",
          "shell.execute_reply.started": "2023-05-11T15:16:49.357355Z",
          "shell.execute_reply": "2023-05-11T15:16:49.364187Z"
        },
        "trusted": true,
        "id": "JGBqMQ-IujG_"
      },
      "execution_count": null,
      "outputs": []
    },
    {
      "cell_type": "code",
      "source": [
        "columns = X_train.columns[sel.get_support()]"
      ],
      "metadata": {
        "execution": {
          "iopub.status.busy": "2023-05-11T15:17:14.371469Z",
          "iopub.execute_input": "2023-05-11T15:17:14.371926Z",
          "iopub.status.idle": "2023-05-11T15:17:14.377212Z",
          "shell.execute_reply.started": "2023-05-11T15:17:14.371893Z",
          "shell.execute_reply": "2023-05-11T15:17:14.375912Z"
        },
        "trusted": true,
        "id": "zQx-6rpPujG_"
      },
      "execution_count": null,
      "outputs": []
    },
    {
      "cell_type": "code",
      "source": [
        "columns"
      ],
      "metadata": {
        "execution": {
          "iopub.status.busy": "2023-05-11T15:17:20.596785Z",
          "iopub.execute_input": "2023-05-11T15:17:20.597313Z",
          "iopub.status.idle": "2023-05-11T15:17:20.605850Z",
          "shell.execute_reply.started": "2023-05-11T15:17:20.597271Z",
          "shell.execute_reply": "2023-05-11T15:17:20.604754Z"
        },
        "trusted": true,
        "id": "TKB8-YrGujHA"
      },
      "execution_count": null,
      "outputs": []
    },
    {
      "cell_type": "code",
      "source": [
        "X_train = sel.transform(X_train)\n",
        "X_test = sel.transform(X_test)\n",
        "#Keeping only those features that have value above varience threshold\n",
        "X_train = pd.DataFrame(X_train, columns=columns)\n",
        "X_test = pd.DataFrame(X_test, columns=columns)"
      ],
      "metadata": {
        "execution": {
          "iopub.status.busy": "2023-05-11T15:17:59.400678Z",
          "iopub.execute_input": "2023-05-11T15:17:59.401102Z",
          "iopub.status.idle": "2023-05-11T15:17:59.430866Z",
          "shell.execute_reply.started": "2023-05-11T15:17:59.401073Z",
          "shell.execute_reply": "2023-05-11T15:17:59.429911Z"
        },
        "trusted": true,
        "id": "TVVKsW3kujHA"
      },
      "execution_count": null,
      "outputs": []
    },
    {
      "cell_type": "code",
      "source": [
        "print(X_train.shape)\n",
        "print(X_test.shape)"
      ],
      "metadata": {
        "execution": {
          "iopub.status.busy": "2023-05-11T15:18:01.331479Z",
          "iopub.execute_input": "2023-05-11T15:18:01.331987Z",
          "iopub.status.idle": "2023-05-11T15:18:01.338161Z",
          "shell.execute_reply.started": "2023-05-11T15:18:01.331950Z",
          "shell.execute_reply": "2023-05-11T15:18:01.337056Z"
        },
        "trusted": true,
        "id": "xq3lPaAFujHA"
      },
      "execution_count": null,
      "outputs": []
    },
    {
      "cell_type": "code",
      "source": [
        "X_train.head()"
      ],
      "metadata": {
        "execution": {
          "iopub.status.busy": "2023-05-11T15:18:29.373747Z",
          "iopub.execute_input": "2023-05-11T15:18:29.374127Z",
          "iopub.status.idle": "2023-05-11T15:18:29.409218Z",
          "shell.execute_reply.started": "2023-05-11T15:18:29.374101Z",
          "shell.execute_reply": "2023-05-11T15:18:29.408145Z"
        },
        "trusted": true,
        "id": "bA0Uu0AXujHA"
      },
      "execution_count": null,
      "outputs": []
    },
    {
      "cell_type": "markdown",
      "source": [
        "### 3. Correlation"
      ],
      "metadata": {
        "id": "JDZLtjo1ujHA"
      }
    },
    {
      "cell_type": "code",
      "source": [
        "import seaborn as sns"
      ],
      "metadata": {
        "execution": {
          "iopub.status.busy": "2023-05-11T15:29:35.385018Z",
          "iopub.execute_input": "2023-05-11T15:29:35.385443Z",
          "iopub.status.idle": "2023-05-11T15:29:35.740230Z",
          "shell.execute_reply.started": "2023-05-11T15:29:35.385408Z",
          "shell.execute_reply": "2023-05-11T15:29:35.739073Z"
        },
        "trusted": true,
        "id": "5-_GcJiyujHB"
      },
      "execution_count": null,
      "outputs": []
    },
    {
      "cell_type": "code",
      "source": [
        "sns.heatmap(X_train.corr())"
      ],
      "metadata": {
        "execution": {
          "iopub.status.busy": "2023-05-11T15:29:47.755240Z",
          "iopub.execute_input": "2023-05-11T15:29:47.756005Z",
          "iopub.status.idle": "2023-05-11T15:29:50.797681Z",
          "shell.execute_reply.started": "2023-05-11T15:29:47.755935Z",
          "shell.execute_reply": "2023-05-11T15:29:50.796457Z"
        },
        "trusted": true,
        "id": "DA_GWcClujHB"
      },
      "execution_count": null,
      "outputs": []
    },
    {
      "cell_type": "code",
      "source": [
        "corr_matrix = X_train.corr() #becuase too many features, we find corr between a feature and all other features"
      ],
      "metadata": {
        "execution": {
          "iopub.status.busy": "2023-05-11T15:30:57.400246Z",
          "iopub.execute_input": "2023-05-11T15:30:57.400936Z",
          "iopub.status.idle": "2023-05-11T15:30:59.337729Z",
          "shell.execute_reply.started": "2023-05-11T15:30:57.400902Z",
          "shell.execute_reply": "2023-05-11T15:30:59.336619Z"
        },
        "trusted": true,
        "id": "pvIbCY__ujHB"
      },
      "execution_count": null,
      "outputs": []
    },
    {
      "cell_type": "code",
      "source": [
        "# Get the column names of the DataFrame\n",
        "columns = corr_matrix.columns\n",
        "\n",
        "# Create an empty list to keep track of columns to drop\n",
        "columns_to_drop = []\n",
        "\n",
        "# Loop over the columns\n",
        "for i in range(len(columns)):\n",
        "    for j in range(i + 1, len(columns)):\n",
        "        # Access the cell of the DataFrame\n",
        "        if corr_matrix.loc[columns[i], columns[j]] > 0.95: #high correlation\n",
        "            columns_to_drop.append(columns[j])\n",
        "\n",
        "print(len(columns_to_drop)) #features are getting repeated multiple times\n"
      ],
      "metadata": {
        "execution": {
          "iopub.status.busy": "2023-05-11T15:31:37.099003Z",
          "iopub.execute_input": "2023-05-11T15:31:37.099404Z",
          "iopub.status.idle": "2023-05-11T15:31:38.326301Z",
          "shell.execute_reply.started": "2023-05-11T15:31:37.099376Z",
          "shell.execute_reply": "2023-05-11T15:31:38.325064Z"
        },
        "trusted": true,
        "id": "c57NxneCujHB"
      },
      "execution_count": null,
      "outputs": []
    },
    {
      "cell_type": "code",
      "source": [
        "columns_to_drop = set(columns_to_drop)"
      ],
      "metadata": {
        "execution": {
          "iopub.status.busy": "2023-05-11T15:32:10.321338Z",
          "iopub.execute_input": "2023-05-11T15:32:10.321782Z",
          "iopub.status.idle": "2023-05-11T15:32:10.327293Z",
          "shell.execute_reply.started": "2023-05-11T15:32:10.321747Z",
          "shell.execute_reply": "2023-05-11T15:32:10.326045Z"
        },
        "trusted": true,
        "id": "WkyzqwvwujHC"
      },
      "execution_count": null,
      "outputs": []
    },
    {
      "cell_type": "code",
      "source": [
        "len(columns_to_drop) #349-197"
      ],
      "metadata": {
        "execution": {
          "iopub.status.busy": "2023-05-11T15:32:21.479751Z",
          "iopub.execute_input": "2023-05-11T15:32:21.480143Z",
          "iopub.status.idle": "2023-05-11T15:32:21.487766Z",
          "shell.execute_reply.started": "2023-05-11T15:32:21.480114Z",
          "shell.execute_reply": "2023-05-11T15:32:21.486825Z"
        },
        "trusted": true,
        "id": "nHj3zA9uujHC"
      },
      "execution_count": null,
      "outputs": []
    },
    {
      "cell_type": "code",
      "source": [
        "X_train.drop(columns = columns_to_drop, axis = 1, inplace=True)\n",
        "X_test.drop(columns = columns_to_drop, axis = 1, inplace=True)"
      ],
      "metadata": {
        "execution": {
          "iopub.status.busy": "2023-05-11T15:32:41.566384Z",
          "iopub.execute_input": "2023-05-11T15:32:41.567228Z",
          "iopub.status.idle": "2023-05-11T15:32:41.578361Z",
          "shell.execute_reply.started": "2023-05-11T15:32:41.567178Z",
          "shell.execute_reply": "2023-05-11T15:32:41.577158Z"
        },
        "trusted": true,
        "id": "212X5ghgujHC"
      },
      "execution_count": null,
      "outputs": []
    },
    {
      "cell_type": "code",
      "source": [
        "print(X_train.shape)\n",
        "print(X_test.shape)"
      ],
      "metadata": {
        "execution": {
          "iopub.status.busy": "2023-05-11T15:32:44.198812Z",
          "iopub.execute_input": "2023-05-11T15:32:44.199219Z",
          "iopub.status.idle": "2023-05-11T15:32:44.204987Z",
          "shell.execute_reply.started": "2023-05-11T15:32:44.199188Z",
          "shell.execute_reply": "2023-05-11T15:32:44.203814Z"
        },
        "trusted": true,
        "id": "Jt3TjIu6ujHD"
      },
      "execution_count": null,
      "outputs": []
    },
    {
      "cell_type": "code",
      "source": [
        "X_train"
      ],
      "metadata": {
        "execution": {
          "iopub.status.busy": "2023-05-11T15:50:14.777279Z",
          "iopub.execute_input": "2023-05-11T15:50:14.777749Z",
          "iopub.status.idle": "2023-05-11T15:50:14.813061Z",
          "shell.execute_reply.started": "2023-05-11T15:50:14.777716Z",
          "shell.execute_reply": "2023-05-11T15:50:14.811295Z"
        },
        "trusted": true,
        "id": "9NwiXKPDujHD"
      },
      "execution_count": null,
      "outputs": []
    },
    {
      "cell_type": "markdown",
      "source": [
        "### 4. ANOVA"
      ],
      "metadata": {
        "id": "Ndobo_mhujHD"
      }
    },
    {
      "cell_type": "code",
      "source": [
        "from sklearn.feature_selection import f_classif\n",
        "from sklearn.feature_selection import SelectKBest\n",
        "\n",
        "#for every column, f_test is done to get f_ratio, using f_ratio p_value is calculated and area is calculated. If p_value < 0.05, we reject Ho\n",
        "#Ho --> There is no relationship beteen X and y\n",
        "#H1 --> There is a linear Relatiosnhip between X/y\n",
        "sel = SelectKBest(f_classif, k=100).fit(X_train, y_train) #ggive 100 best features\n",
        "\n",
        "# display selected feature names\n",
        "X_train.columns[sel.get_support()]"
      ],
      "metadata": {
        "execution": {
          "iopub.status.busy": "2023-05-11T15:57:23.243342Z",
          "iopub.execute_input": "2023-05-11T15:57:23.243800Z",
          "iopub.status.idle": "2023-05-11T15:57:23.273564Z",
          "shell.execute_reply.started": "2023-05-11T15:57:23.243766Z",
          "shell.execute_reply": "2023-05-11T15:57:23.272511Z"
        },
        "trusted": true,
        "id": "h3Dtp8vSujHE"
      },
      "execution_count": null,
      "outputs": []
    },
    {
      "cell_type": "code",
      "source": [
        "columns = X_train.columns[sel.get_support()]"
      ],
      "metadata": {
        "execution": {
          "iopub.status.busy": "2023-05-11T15:57:38.801723Z",
          "iopub.execute_input": "2023-05-11T15:57:38.802124Z",
          "iopub.status.idle": "2023-05-11T15:57:38.807989Z",
          "shell.execute_reply.started": "2023-05-11T15:57:38.802097Z",
          "shell.execute_reply": "2023-05-11T15:57:38.806847Z"
        },
        "trusted": true,
        "id": "EuBZXMDYujHF"
      },
      "execution_count": null,
      "outputs": []
    },
    {
      "cell_type": "code",
      "source": [
        "X_train = sel.transform(X_train)\n",
        "X_test = sel.transform(X_test)\n",
        "\n",
        "X_train = pd.DataFrame(X_train, columns=columns)\n",
        "X_test = pd.DataFrame(X_test, columns=columns)"
      ],
      "metadata": {
        "execution": {
          "iopub.status.busy": "2023-05-11T15:57:50.927986Z",
          "iopub.execute_input": "2023-05-11T15:57:50.928388Z",
          "iopub.status.idle": "2023-05-11T15:57:50.944946Z",
          "shell.execute_reply.started": "2023-05-11T15:57:50.928358Z",
          "shell.execute_reply": "2023-05-11T15:57:50.943643Z"
        },
        "trusted": true,
        "id": "wH2xXdJQujHF"
      },
      "execution_count": null,
      "outputs": []
    },
    {
      "cell_type": "code",
      "source": [
        "print(X_train.shape)\n",
        "print(X_test.shape)"
      ],
      "metadata": {
        "execution": {
          "iopub.status.busy": "2023-05-11T15:57:52.141385Z",
          "iopub.execute_input": "2023-05-11T15:57:52.141833Z",
          "iopub.status.idle": "2023-05-11T15:57:52.147825Z",
          "shell.execute_reply.started": "2023-05-11T15:57:52.141800Z",
          "shell.execute_reply": "2023-05-11T15:57:52.146769Z"
        },
        "trusted": true,
        "id": "a5ADPxlTujHF"
      },
      "execution_count": null,
      "outputs": []
    },
    {
      "cell_type": "code",
      "source": [
        "X_train.head()"
      ],
      "metadata": {
        "execution": {
          "iopub.status.busy": "2023-05-11T12:15:53.418641Z",
          "iopub.execute_input": "2023-05-11T12:15:53.419277Z",
          "iopub.status.idle": "2023-05-11T12:15:53.450423Z",
          "shell.execute_reply.started": "2023-05-11T12:15:53.419241Z",
          "shell.execute_reply": "2023-05-11T12:15:53.448956Z"
        },
        "trusted": true,
        "id": "y27s9SlpujHO"
      },
      "execution_count": null,
      "outputs": []
    },
    {
      "cell_type": "markdown",
      "source": [
        "### Moment of Truth"
      ],
      "metadata": {
        "id": "36n4u5O9ujHO"
      }
    },
    {
      "cell_type": "code",
      "source": [
        "# Initialize and train logistic regression model\n",
        "log_reg = LogisticRegression(max_iter=1000)  # Increase max_iter if it doesn't converge\n",
        "log_reg.fit(X_train, y_train)\n",
        "\n",
        "# Make predictions on the test set\n",
        "y_pred = log_reg.predict(X_test)\n",
        "\n",
        "# Calculate and print accuracy score\n",
        "accuracy = accuracy_score(y_test, y_pred)\n",
        "print(\"Test accuracy:\", accuracy)"
      ],
      "metadata": {
        "execution": {
          "iopub.status.busy": "2023-05-11T16:00:58.375610Z",
          "iopub.execute_input": "2023-05-11T16:00:58.376028Z",
          "iopub.status.idle": "2023-05-11T16:01:01.643348Z",
          "shell.execute_reply.started": "2023-05-11T16:00:58.375998Z",
          "shell.execute_reply": "2023-05-11T16:01:01.641549Z"
        },
        "trusted": true,
        "id": "ujkakMJUujHP"
      },
      "execution_count": null,
      "outputs": []
    },
    {
      "cell_type": "markdown",
      "source": [
        "### 5. Chi-square Test"
      ],
      "metadata": {
        "id": "y0hScNVeujHP"
      }
    },
    {
      "cell_type": "code",
      "source": [
        "titanic = pd.read_csv('/kaggle/input/titanic/train.csv')[['Pclass','Sex','SibSp','Parch','Embarked','Survived']]\n",
        "titanic.head()"
      ],
      "metadata": {
        "execution": {
          "iopub.status.busy": "2023-05-11T16:08:23.069624Z",
          "iopub.execute_input": "2023-05-11T16:08:23.070011Z",
          "iopub.status.idle": "2023-05-11T16:08:23.096065Z",
          "shell.execute_reply.started": "2023-05-11T16:08:23.069982Z",
          "shell.execute_reply": "2023-05-11T16:08:23.094880Z"
        },
        "trusted": true,
        "id": "fkESxfl-ujHQ"
      },
      "execution_count": null,
      "outputs": []
    },
    {
      "cell_type": "code",
      "source": [
        "ct = pd.crosstab(titanic['Survived'],titanic['Sex'],margins=True) #Only on Categorical features\n",
        "ct"
      ],
      "metadata": {
        "execution": {
          "iopub.status.busy": "2023-05-11T16:10:10.091328Z",
          "iopub.execute_input": "2023-05-11T16:10:10.091751Z",
          "iopub.status.idle": "2023-05-11T16:10:10.143091Z",
          "shell.execute_reply.started": "2023-05-11T16:10:10.091718Z",
          "shell.execute_reply": "2023-05-11T16:10:10.141827Z"
        },
        "trusted": true,
        "id": "fhENXOugujHQ"
      },
      "execution_count": null,
      "outputs": []
    },
    {
      "cell_type": "code",
      "source": [
        "from scipy.stats import chi2_contingency\n",
        "chi2_contingency(ct)"
      ],
      "metadata": {
        "execution": {
          "iopub.status.busy": "2023-05-11T16:16:06.212132Z",
          "iopub.execute_input": "2023-05-11T16:16:06.212546Z",
          "iopub.status.idle": "2023-05-11T16:16:06.221678Z",
          "shell.execute_reply.started": "2023-05-11T16:16:06.212516Z",
          "shell.execute_reply": "2023-05-11T16:16:06.220453Z"
        },
        "trusted": true,
        "id": "uZYc4ZjXujHR"
      },
      "execution_count": null,
      "outputs": []
    },
    {
      "cell_type": "code",
      "source": [
        "score = []\n",
        "\n",
        "for feature in titanic.columns[:-1]:\n",
        "\n",
        "    # create contingency table\n",
        "    ct = pd.crosstab(titanic['Survived'], titanic[feature])\n",
        "\n",
        "    # chi_test\n",
        "    p_value = chi2_contingency(ct)[1]\n",
        "    score.append(p_value)"
      ],
      "metadata": {
        "execution": {
          "iopub.status.busy": "2023-05-11T16:17:04.042600Z",
          "iopub.execute_input": "2023-05-11T16:17:04.043137Z",
          "iopub.status.idle": "2023-05-11T16:17:04.106193Z",
          "shell.execute_reply.started": "2023-05-11T16:17:04.043084Z",
          "shell.execute_reply": "2023-05-11T16:17:04.105199Z"
        },
        "trusted": true,
        "id": "UpCpm80HujHR"
      },
      "execution_count": null,
      "outputs": []
    },
    {
      "cell_type": "code",
      "source": [
        "pd.Series(score, index=titanic.columns[:-1]).sort_values(ascending=True).plot(kind='bar')\n",
        "#p_value lowest, that much high evidence that Ho as to be rejected and that feature is important\n",
        "#Here Sex is most important feature then Plcass, SibSp...."
      ],
      "metadata": {
        "execution": {
          "iopub.status.busy": "2023-05-11T16:17:06.158756Z",
          "iopub.execute_input": "2023-05-11T16:17:06.159289Z",
          "iopub.status.idle": "2023-05-11T16:17:06.482858Z",
          "shell.execute_reply.started": "2023-05-11T16:17:06.159245Z",
          "shell.execute_reply": "2023-05-11T16:17:06.481718Z"
        },
        "trusted": true,
        "id": "KiTPEXGNujHS"
      },
      "execution_count": null,
      "outputs": []
    },
    {
      "cell_type": "code",
      "source": [
        "from sklearn.preprocessing import LabelEncoder\n",
        "from sklearn.feature_selection import chi2 #chi2_contingency is better\n",
        "import matplotlib.pyplot as plt\n",
        "\n",
        "# assuming titanic is your DataFrame and 'Survived' is the target column\n",
        "\n",
        "# Encode categorical variables\n",
        "le = LabelEncoder()\n",
        "titanic_encoded = titanic.apply(le.fit_transform)\n",
        "\n",
        "X = titanic_encoded.drop('Survived', axis=1)\n",
        "y = titanic_encoded['Survived']\n",
        "\n",
        "# Calculate chi-squared stats\n",
        "chi_scores = chi2(X, y)\n",
        "\n",
        "# chi_scores[1] are the p-values of each feature.\n",
        "p_values = pd.Series(chi_scores[1], index = X.columns)\n",
        "p_values.sort_values(inplace = True)\n",
        "\n",
        "# Plotting the p-values\n",
        "p_values.plot.bar()\n",
        "\n",
        "plt.title('Chi-square test - P-values')\n",
        "plt.xlabel('Feature')\n",
        "plt.ylabel('P-value')\n",
        "\n",
        "plt.show()\n"
      ],
      "metadata": {
        "execution": {
          "iopub.status.busy": "2023-05-11T10:49:23.518487Z",
          "iopub.execute_input": "2023-05-11T10:49:23.519112Z",
          "iopub.status.idle": "2023-05-11T10:49:23.781662Z",
          "shell.execute_reply.started": "2023-05-11T10:49:23.519075Z",
          "shell.execute_reply": "2023-05-11T10:49:23.780465Z"
        },
        "trusted": true,
        "id": "EKl4ikciujHS"
      },
      "execution_count": null,
      "outputs": []
    },
    {
      "cell_type": "code",
      "source": [],
      "metadata": {
        "id": "xF7rMSYsujHT"
      },
      "execution_count": null,
      "outputs": []
    }
  ]
}