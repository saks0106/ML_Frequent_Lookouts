{
  "cells": [
    {
      "cell_type": "markdown",
      "metadata": {
        "id": "view-in-github",
        "colab_type": "text"
      },
      "source": [
        "<a href=\"https://colab.research.google.com/github/saks0106/ML_Frequent-Lookouts/blob/main/1_OHE_variables_with_many_labels.ipynb\" target=\"_parent\"><img src=\"https://colab.research.google.com/assets/colab-badge.svg\" alt=\"Open In Colab\"/></a>"
      ]
    },
    {
      "cell_type": "markdown",
      "metadata": {
        "id": "ryaJxl9g5NG_"
      },
      "source": [
        "## One Hot Encoding - variables with many categories\n"
      ]
    },
    {
      "cell_type": "code",
      "execution_count": null,
      "metadata": {
        "id": "i4o_ToAp5NHJ",
        "outputId": "e618b074-aa1b-47f1-907a-748d06b34f5e"
      },
      "outputs": [
        {
          "data": {
            "text/html": [
              "<div>\n",
              "<style scoped>\n",
              "    .dataframe tbody tr th:only-of-type {\n",
              "        vertical-align: middle;\n",
              "    }\n",
              "\n",
              "    .dataframe tbody tr th {\n",
              "        vertical-align: top;\n",
              "    }\n",
              "\n",
              "    .dataframe thead th {\n",
              "        text-align: right;\n",
              "    }\n",
              "</style>\n",
              "<table border=\"1\" class=\"dataframe\">\n",
              "  <thead>\n",
              "    <tr style=\"text-align: right;\">\n",
              "      <th></th>\n",
              "      <th>X1</th>\n",
              "      <th>X2</th>\n",
              "    </tr>\n",
              "  </thead>\n",
              "  <tbody>\n",
              "    <tr>\n",
              "      <th>0</th>\n",
              "      <td>v</td>\n",
              "      <td>at</td>\n",
              "    </tr>\n",
              "    <tr>\n",
              "      <th>1</th>\n",
              "      <td>t</td>\n",
              "      <td>av</td>\n",
              "    </tr>\n",
              "    <tr>\n",
              "      <th>2</th>\n",
              "      <td>w</td>\n",
              "      <td>n</td>\n",
              "    </tr>\n",
              "    <tr>\n",
              "      <th>3</th>\n",
              "      <td>t</td>\n",
              "      <td>n</td>\n",
              "    </tr>\n",
              "    <tr>\n",
              "      <th>4</th>\n",
              "      <td>v</td>\n",
              "      <td>n</td>\n",
              "    </tr>\n",
              "  </tbody>\n",
              "</table>\n",
              "</div>"
            ],
            "text/plain": [
              "  X1  X2\n",
              "0  v  at\n",
              "1  t  av\n",
              "2  w   n\n",
              "3  t   n\n",
              "4  v   n"
            ]
          },
          "execution_count": 2,
          "metadata": {},
          "output_type": "execute_result"
        }
      ],
      "source": [
        "#https://www.kaggle.com/aditya1702/mercedes-benz-data-exploration/data\n",
        "\n",
        "import pandas as pd\n",
        "import numpy as np\n",
        "\n",
        "\n",
        "\n",
        "df = pd.read_csv('mercedesbenz.csv', usecols=['X1', 'X2'])\n",
        "df.head()"
      ]
    },
    {
      "cell_type": "code",
      "execution_count": null,
      "metadata": {
        "id": "bdai3Gb-5NHL",
        "outputId": "b2ab7793-74cf-4e00-b127-ec66d7f9b580"
      },
      "outputs": [
        {
          "name": "stdout",
          "output_type": "stream",
          "text": [
            "['v' 't' 'w' 'b' 'r' 'l' 's' 'aa' 'c' 'a' 'e' 'h' 'z' 'j' 'o' 'u' 'p' 'n'\n",
            " 'i' 'y' 'd' 'f' 'm' 'k' 'g' 'q' 'ab']\n",
            "['at' 'av' 'n' 'e' 'as' 'aq' 'r' 'ai' 'ak' 'm' 'a' 'k' 'ae' 's' 'f' 'd'\n",
            " 'ag' 'ay' 'ac' 'ap' 'g' 'i' 'aw' 'y' 'b' 'ao' 'al' 'h' 'x' 'au' 't' 'an'\n",
            " 'z' 'ah' 'p' 'am' 'j' 'q' 'af' 'l' 'aa' 'c' 'o' 'ar']\n"
          ]
        }
      ],
      "source": [
        "for col in df:\n",
        "    print(df[col].unique())"
      ]
    },
    {
      "cell_type": "code",
      "execution_count": null,
      "metadata": {
        "id": "aLpRW6N15NHM",
        "outputId": "2e59b0b0-c29e-4099-e774-7b001a80a5ca"
      },
      "outputs": [
        {
          "data": {
            "text/plain": [
              "array(['v', 't', 'w', 'b', 'r', 'l', 's', 'aa', 'c', 'a', 'e', 'h', 'z',\n",
              "       'j', 'o', 'u', 'p', 'n', 'i', 'y', 'd', 'f', 'm', 'k', 'g', 'q',\n",
              "       'ab'], dtype=object)"
            ]
          },
          "execution_count": 9,
          "metadata": {},
          "output_type": "execute_result"
        }
      ],
      "source": [
        "df['X1'].unique()"
      ]
    },
    {
      "cell_type": "code",
      "execution_count": null,
      "metadata": {
        "id": "TaHN1W-c5NHN",
        "outputId": "5e76db3d-bef9-4681-fea1-487ccefc61a7"
      },
      "outputs": [
        {
          "data": {
            "text/plain": [
              "27"
            ]
          },
          "execution_count": 10,
          "metadata": {},
          "output_type": "execute_result"
        }
      ],
      "source": [
        "len(df['X1'].unique())"
      ]
    },
    {
      "cell_type": "code",
      "execution_count": null,
      "metadata": {
        "id": "rJe5dbSa5NHN",
        "outputId": "ab4758f7-1047-4934-c59d-d2b6a86f3fb6"
      },
      "outputs": [
        {
          "data": {
            "text/plain": [
              "array(['at', 'av', 'n', 'e', 'as', 'aq', 'r', 'ai', 'ak', 'm', 'a', 'k',\n",
              "       'ae', 's', 'f', 'd', 'ag', 'ay', 'ac', 'ap', 'g', 'i', 'aw', 'y',\n",
              "       'b', 'ao', 'al', 'h', 'x', 'au', 't', 'an', 'z', 'ah', 'p', 'am',\n",
              "       'j', 'q', 'af', 'l', 'aa', 'c', 'o', 'ar'], dtype=object)"
            ]
          },
          "execution_count": 12,
          "metadata": {},
          "output_type": "execute_result"
        }
      ],
      "source": [
        "df['X2'].unique()"
      ]
    },
    {
      "cell_type": "code",
      "execution_count": null,
      "metadata": {
        "id": "Rlmtwgq65NHO",
        "outputId": "ca9b6b8b-7a07-48df-eae8-e5815a92cdb2"
      },
      "outputs": [
        {
          "data": {
            "text/plain": [
              "44"
            ]
          },
          "execution_count": 13,
          "metadata": {},
          "output_type": "execute_result"
        }
      ],
      "source": [
        "len(df['X2'].unique())"
      ]
    },
    {
      "cell_type": "code",
      "execution_count": null,
      "metadata": {
        "id": "0TsLcNgw5NHP",
        "outputId": "df38bd9b-5eaf-47bf-ae55-8e96703c9172"
      },
      "outputs": [
        {
          "name": "stdout",
          "output_type": "stream",
          "text": [
            "X1 :  27  labels\n",
            "X2 :  44  labels\n"
          ]
        }
      ],
      "source": [
        "# let's have a look at how many labels each variable has\n",
        "\n",
        "for col in df.columns:\n",
        "    print(col, ': ', len(df[col].unique()), ' labels')"
      ]
    },
    {
      "cell_type": "code",
      "execution_count": null,
      "metadata": {
        "id": "ft6eSJPe5NHP",
        "outputId": "2b6326d4-2119-41da-d58f-93a1b5068ea4"
      },
      "outputs": [
        {
          "data": {
            "text/plain": [
              "(4209, 2)"
            ]
          },
          "execution_count": 17,
          "metadata": {},
          "output_type": "execute_result"
        }
      ],
      "source": [
        "df.shape"
      ]
    },
    {
      "cell_type": "code",
      "execution_count": null,
      "metadata": {
        "id": "0R4anxXs5NHQ",
        "outputId": "e3486797-e4e1-44ca-8acc-fcb292146377"
      },
      "outputs": [
        {
          "data": {
            "text/plain": [
              "(4209, 69)"
            ]
          },
          "execution_count": 16,
          "metadata": {},
          "output_type": "execute_result"
        }
      ],
      "source": [
        "# let's examine how many columns we will obtain after one hot encoding these variables\n",
        "pd.get_dummies(df, drop_first=True).shape"
      ]
    },
    {
      "cell_type": "markdown",
      "metadata": {
        "id": "s5HsOwbF5NHR"
      },
      "source": [
        "\n",
        "\n",
        "We can observe that from with just 2 categorical features we are getting 69 features with the help of one hot encoding.\n",
        "\n",
        "## KDD Cup Orange Challenge\n",
        "\n",
        "What can we do instead?\n",
        "\n",
        "http://proceedings.mlr.press/v7/niculescu09/niculescu09.pdf\n",
        "In the winning solution of the KDD 2009 cup: \"Winning the KDD Cup Orange Challenge with Ensemble\n",
        "\n",
        "The Team suggested using 10 most frequent labels convert them into dummy variables using onehotencoding\n",
        "\n",
        "How can we do that in python?"
      ]
    },
    {
      "cell_type": "code",
      "execution_count": null,
      "metadata": {
        "id": "91UbJ1vi5NHR",
        "outputId": "c93c2b7d-a891-40e4-c14c-bff00ed7166e"
      },
      "outputs": [
        {
          "data": {
            "text/plain": [
              "as    1659\n",
              "ae     496\n",
              "ai     415\n",
              "m      367\n",
              "ak     265\n",
              "r      153\n",
              "n      137\n",
              "s       94\n",
              "f       87\n",
              "e       81\n",
              "aq      63\n",
              "ay      54\n",
              "a       47\n",
              "t       29\n",
              "k       25\n",
              "i       25\n",
              "b       21\n",
              "ao      20\n",
              "z       19\n",
              "ag      19\n",
              "Name: X2, dtype: int64"
            ]
          },
          "execution_count": 8,
          "metadata": {},
          "output_type": "execute_result"
        }
      ],
      "source": [
        "# let's find the top 10 most frequent categories for the variable X2\n",
        "\n",
        "data.X2.value_counts().sort_values(ascending=False).head(20)"
      ]
    },
    {
      "cell_type": "code",
      "execution_count": null,
      "metadata": {
        "id": "RDTZvZld5NHT",
        "outputId": "01521c3a-3a82-46ef-ee86-85354249178a"
      },
      "outputs": [
        {
          "data": {
            "text/plain": [
              "['as', 'ae', 'ai', 'm', 'ak', 'r', 'n', 's', 'f', 'e']"
            ]
          },
          "execution_count": 18,
          "metadata": {},
          "output_type": "execute_result"
        }
      ],
      "source": [
        "# let's make a list with the most frequent categories of the variable\n",
        "\n",
        "top_10_labels = [y for y in df.X2.value_counts().sort_values(ascending=False).head(10).index]\n",
        "top_10_labels"
      ]
    },
    {
      "cell_type": "code",
      "execution_count": null,
      "metadata": {
        "id": "xhwpCWJH5NHU"
      },
      "outputs": [],
      "source": [
        "# get whole set of dummy variables, for all the categorical variables\n",
        "\n",
        "def one_hot_encoding_top_x(df, variable, top_x_labels):\n",
        "    # function to create the dummy variables for the most frequent labels\n",
        "    # we can vary the number of most frequent labels that we encode\n",
        "\n",
        "    for label in top_x_labels:\n",
        "        df[variable+'_'+label] = np.where(df[variable]==label, 1, 0)\n",
        "\n"
      ]
    },
    {
      "cell_type": "code",
      "execution_count": null,
      "metadata": {
        "id": "qmBQq8Wa5NHV",
        "outputId": "184c2c24-c43a-468f-d093-4d8cda6b7380"
      },
      "outputs": [
        {
          "data": {
            "text/html": [
              "<div>\n",
              "<style scoped>\n",
              "    .dataframe tbody tr th:only-of-type {\n",
              "        vertical-align: middle;\n",
              "    }\n",
              "\n",
              "    .dataframe tbody tr th {\n",
              "        vertical-align: top;\n",
              "    }\n",
              "\n",
              "    .dataframe thead th {\n",
              "        text-align: right;\n",
              "    }\n",
              "</style>\n",
              "<table border=\"1\" class=\"dataframe\">\n",
              "  <thead>\n",
              "    <tr style=\"text-align: right;\">\n",
              "      <th></th>\n",
              "      <th>X1</th>\n",
              "      <th>X2</th>\n",
              "      <th>X2_as</th>\n",
              "      <th>X2_ae</th>\n",
              "      <th>X2_ai</th>\n",
              "      <th>X2_m</th>\n",
              "      <th>X2_ak</th>\n",
              "      <th>X2_r</th>\n",
              "      <th>X2_n</th>\n",
              "      <th>X2_s</th>\n",
              "      <th>X2_f</th>\n",
              "      <th>X2_e</th>\n",
              "    </tr>\n",
              "  </thead>\n",
              "  <tbody>\n",
              "    <tr>\n",
              "      <th>0</th>\n",
              "      <td>v</td>\n",
              "      <td>at</td>\n",
              "      <td>0</td>\n",
              "      <td>0</td>\n",
              "      <td>0</td>\n",
              "      <td>0</td>\n",
              "      <td>0</td>\n",
              "      <td>0</td>\n",
              "      <td>0</td>\n",
              "      <td>0</td>\n",
              "      <td>0</td>\n",
              "      <td>0</td>\n",
              "    </tr>\n",
              "    <tr>\n",
              "      <th>1</th>\n",
              "      <td>t</td>\n",
              "      <td>av</td>\n",
              "      <td>0</td>\n",
              "      <td>0</td>\n",
              "      <td>0</td>\n",
              "      <td>0</td>\n",
              "      <td>0</td>\n",
              "      <td>0</td>\n",
              "      <td>0</td>\n",
              "      <td>0</td>\n",
              "      <td>0</td>\n",
              "      <td>0</td>\n",
              "    </tr>\n",
              "    <tr>\n",
              "      <th>2</th>\n",
              "      <td>w</td>\n",
              "      <td>n</td>\n",
              "      <td>0</td>\n",
              "      <td>0</td>\n",
              "      <td>0</td>\n",
              "      <td>0</td>\n",
              "      <td>0</td>\n",
              "      <td>0</td>\n",
              "      <td>1</td>\n",
              "      <td>0</td>\n",
              "      <td>0</td>\n",
              "      <td>0</td>\n",
              "    </tr>\n",
              "    <tr>\n",
              "      <th>3</th>\n",
              "      <td>t</td>\n",
              "      <td>n</td>\n",
              "      <td>0</td>\n",
              "      <td>0</td>\n",
              "      <td>0</td>\n",
              "      <td>0</td>\n",
              "      <td>0</td>\n",
              "      <td>0</td>\n",
              "      <td>1</td>\n",
              "      <td>0</td>\n",
              "      <td>0</td>\n",
              "      <td>0</td>\n",
              "    </tr>\n",
              "    <tr>\n",
              "      <th>4</th>\n",
              "      <td>v</td>\n",
              "      <td>n</td>\n",
              "      <td>0</td>\n",
              "      <td>0</td>\n",
              "      <td>0</td>\n",
              "      <td>0</td>\n",
              "      <td>0</td>\n",
              "      <td>0</td>\n",
              "      <td>1</td>\n",
              "      <td>0</td>\n",
              "      <td>0</td>\n",
              "      <td>0</td>\n",
              "    </tr>\n",
              "  </tbody>\n",
              "</table>\n",
              "</div>"
            ],
            "text/plain": [
              "  X1  X2  X2_as  X2_ae  X2_ai  X2_m  X2_ak  X2_r  X2_n  X2_s  X2_f  X2_e\n",
              "0  v  at      0      0      0     0      0     0     0     0     0     0\n",
              "1  t  av      0      0      0     0      0     0     0     0     0     0\n",
              "2  w   n      0      0      0     0      0     0     1     0     0     0\n",
              "3  t   n      0      0      0     0      0     0     1     0     0     0\n",
              "4  v   n      0      0      0     0      0     0     1     0     0     0"
            ]
          },
          "execution_count": 24,
          "metadata": {},
          "output_type": "execute_result"
        }
      ],
      "source": [
        "# read the data again\n",
        "df = pd.read_csv('mercedesbenz.csv', usecols=['X1', 'X2'])\n",
        "\n",
        "# encode X2 into the 10 most frequent categories\n",
        "one_hot_encoding_top_x(df, 'X2', top_10_labels)\n",
        "df.head()"
      ]
    },
    {
      "cell_type": "markdown",
      "metadata": {
        "id": "K35EfSOe5NHV"
      },
      "source": [
        "\n",
        "\n",
        "\n",
        "\n"
      ]
    },
    {
      "cell_type": "code",
      "execution_count": null,
      "metadata": {
        "collapsed": true,
        "id": "IxLA8OPz5NHV"
      },
      "outputs": [],
      "source": []
    }
  ],
  "metadata": {
    "kernelspec": {
      "display_name": "Python 3",
      "language": "python",
      "name": "python3"
    },
    "language_info": {
      "codemirror_mode": {
        "name": "ipython",
        "version": 3
      },
      "file_extension": ".py",
      "mimetype": "text/x-python",
      "name": "python",
      "nbconvert_exporter": "python",
      "pygments_lexer": "ipython3",
      "version": "3.6.7"
    },
    "toc": {
      "nav_menu": {},
      "number_sections": true,
      "sideBar": true,
      "skip_h1_title": false,
      "toc_cell": false,
      "toc_position": {},
      "toc_section_display": "block",
      "toc_window_display": true
    },
    "colab": {
      "provenance": [],
      "include_colab_link": true
    }
  },
  "nbformat": 4,
  "nbformat_minor": 0
}